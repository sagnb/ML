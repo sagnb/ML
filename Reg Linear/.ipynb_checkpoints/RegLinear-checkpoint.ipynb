{
 "cells": [
  {
   "cell_type": "code",
   "execution_count": 1,
   "id": "c67a792a",
   "metadata": {},
   "outputs": [],
   "source": [
    "import numpy as np\n",
    "import pandas as pd\n",
    "import matplotlib.pyplot as plt\n",
    "import seaborn as sns\n",
    "from sklearn.linear_model import LinearRegression"
   ]
  },
  {
   "cell_type": "raw",
   "id": "0d33101c",
   "metadata": {},
   "source": [
    "https://colab.google/\n",
    "\n",
    "!pip install x\n",
    "\n",
    "from google.colab import files\n",
    "upload = files.upload()"
   ]
  },
  {
   "cell_type": "code",
   "execution_count": 2,
   "id": "a2948f7b",
   "metadata": {},
   "outputs": [],
   "source": [
    "# trees.csv: circunferência x altura x volume de árvores\n",
    "trees = pd.read_csv('data/trees.csv')"
   ]
  },
  {
   "cell_type": "code",
   "execution_count": 3,
   "id": "dcead39f",
   "metadata": {},
   "outputs": [],
   "source": [
    "# cars.csv: velocidade x distância de frenagem\n",
    "cars = pd.read_csv('data/cars.csv')"
   ]
  },
  {
   "cell_type": "code",
   "execution_count": 4,
   "id": "6b229080",
   "metadata": {},
   "outputs": [],
   "source": [
    "# mt_cars.csv: consumo dos carros\n",
    "mt_cars = pd.read_csv('data/mt_cars.csv')"
   ]
  },
  {
   "cell_type": "raw",
   "id": "1e208663",
   "metadata": {},
   "source": [
    "x03.txt: idade x pressão arterial, 30 linhas, 4 colunas;\n",
    "x08.txt: pobreza x desemprego x taxa de homicídios, 20 linhas, 5 colunas;\n",
    "x09.txt: idade x peso x gordura no sangue, 25 linhas, 5 colunas;\n",
    "x12.txt: energia elétrica, 16 linhas, 6 colunas;\n",
    "x15.txt: petróleo x condições locais, 48 linhas, 6 colunas;\n",
    "x20.txt: população x consumo de álcool, 46 linhas, 7 colunas;\n",
    "x27.txt: preço de venda das casas, 28 linhas, 14 colunas;\n",
    "\n",
    "link: https://people.sc.fsu.edu/~jburkardt/datasets/regression/regression.html"
   ]
  },
  {
   "cell_type": "code",
   "execution_count": 5,
   "id": "503b09e3",
   "metadata": {},
   "outputs": [],
   "source": [
    "#   x03.txt\n",
    "\n",
    "#   Reference:\n",
    "\n",
    "#     Helmut Spaeth,\n",
    "#     Mathematical Algorithms for Linear Regression,\n",
    "#     Academic Press, 1991, page 304,\n",
    "#     ISBN 0-12-656460-4.\n",
    "\n",
    "#     D G Kleinbaum and L L Kupper,\n",
    "#     Applied Regression Analysis and Other Multivariable Methods,\n",
    "#     Duxbury Press, 1978, page 47.\n",
    "\n",
    "#   Discussion:\n",
    "\n",
    "#     The systolic blood pressure was measured for 30 people of\n",
    "#     different ages.  A nonzero intercept seems appropriate\n",
    "#     here, since even a very young person can have a high blood pressure.\n",
    "\n",
    "#     There are 30 rows of data.  The data columns include:\n",
    "\n",
    "#       I,  the index;\n",
    "#       A0, 1,\n",
    "#       A1, the age;\n",
    "#       B,  the systolic blood pressure.\n",
    "\n",
    "#     We seek a model of the form:\n",
    "\n",
    "#       B = A0 * X0 + A1 * X1\n",
    "\n",
    "# 4 columns\n",
    "# 30 rows\n",
    "\n",
    "blood_pressure = pd.read_csv('data/x03.txt')"
   ]
  },
  {
   "cell_type": "code",
   "execution_count": 6,
   "id": "39ea1d35",
   "metadata": {},
   "outputs": [],
   "source": [
    "#   x08.txt\n",
    "\n",
    "#   Reference:\n",
    "\n",
    "#     Helmut Spaeth,\n",
    "#     Mathematical Algorithms for Linear Regression,\n",
    "#     Academic Press, 1991,\n",
    "#     ISBN 0-12-656460-4.\n",
    "\n",
    "#     D G Kleinbaum and L L Kupper,\n",
    "#     Applied Regression Analysis and Other Multivariable Methods,\n",
    "#     Duxbury Press, 1978, page 150.\n",
    "\n",
    "#   Discussion:\n",
    "\n",
    "#     Measurements were made of poverty, unemployment, and murder rates.\n",
    "\n",
    "#     There are 20 rows of data.  The data include:\n",
    "\n",
    "#       I,  the index,\n",
    "#       A1, the inhabitants, \n",
    "#       A2, the percentage of families incomes below $5000,\n",
    "#       A3, the percentage unemployed,\n",
    "#       B,  the number of murders per 1,000,000 inhabitants per annum.\n",
    "\n",
    "#     We seek a model of the form:\n",
    "\n",
    "#       B = A1 * X1 + A2 * X2 + A3 * X3\n",
    "\n",
    "# 5 columns\n",
    "# 20 rows\n",
    "\n",
    "poverty_and_murder = pd.read_csv('data/x08.txt')"
   ]
  },
  {
   "cell_type": "code",
   "execution_count": 7,
   "id": "cd8cd16e",
   "metadata": {},
   "outputs": [],
   "source": [
    "#  x09.txt\n",
    "#\n",
    "#  Reference:\n",
    "#\n",
    "#    D G Kleinbaum and L L Kupper,\n",
    "#    Applied Regression Analysis and Other Multivariable Methods,\n",
    "#    Duxbury Press, 1978, page 149.\n",
    "#\n",
    "#    Helmut Spaeth,\n",
    "#    Mathematical Algorithms for Linear Regression,\n",
    "#    Academic Press, 1991,\n",
    "#    ISBN 0-12-656460-4.\n",
    "#\n",
    "#  Discussion:\n",
    "#\n",
    "#    Age and weight are to be related to blood fat content.\n",
    "#\n",
    "#    There are 25 rows of data.  The data columns include:\n",
    "#\n",
    "#      I,  the index;\n",
    "#      A0, 1;\n",
    "#      A1, the weight;\n",
    "#      A2, the age;\n",
    "#      B,  the blood fat content.\n",
    "#\n",
    "#    We seek a model of the form:\n",
    "#\n",
    "#      B = A0 * X0 + A1 * X1 + A2 * X2.\n",
    "#\n",
    "# 5 columns\n",
    "# 25 rows\n",
    "\n",
    "blood_fat = pd.read_csv('data/x09.txt')"
   ]
  },
  {
   "cell_type": "code",
   "execution_count": 8,
   "id": "53effc34",
   "metadata": {},
   "outputs": [],
   "source": [
    "#  x12.txt\n",
    "#\n",
    "#  Reference:\n",
    "#\n",
    "#    Helmut Spaeth,\n",
    "#    Mathematical Algorithms for Linear Regression,\n",
    "#    Academic Press, 1991,\n",
    "#    ISBN 0-12-656460-4.\n",
    "#\n",
    "#    R J Freund and P D Minton,\n",
    "#    Regression Methods,\n",
    "#    Dekker, 1979, page 70.\n",
    "#\n",
    "#  Discussion:\n",
    "#\n",
    "#    Data from various public electricity supply authorities was collected.\n",
    "#\n",
    "#    There are 16 rows of data.  The data include:\n",
    "#\n",
    "#      I,  the index;\n",
    "#      A0, 1;\n",
    "#      A1, the capital costs,\n",
    "#      A2, the labor costs,\n",
    "#      A3, the energy costs.\n",
    "#      B,  the output of electricity in millions of kilowatts;\n",
    "#\n",
    "#    We seek a model of the form:\n",
    "#\n",
    "#      B = A0 * X0 + A1 * X1 + A2 * X2 + A3 * X3.\n",
    "#\n",
    "# 6 columns\n",
    "# 16 rows\n",
    "\n",
    "electricity = pd.read_csv('data/x12.txt')"
   ]
  },
  {
   "cell_type": "code",
   "execution_count": 9,
   "id": "73c4f656",
   "metadata": {},
   "outputs": [],
   "source": [
    "#  x15.txt\n",
    "#\n",
    "#  Reference:\n",
    "#\n",
    "#    Helmut Spaeth,\n",
    "#    Mathematical Algorithms for Linear Regression,\n",
    "#    Academic Press, 1991,\n",
    "#    ISBN 0-12-656460-4.\n",
    "#\n",
    "#    S Weisberg,\n",
    "#    Applied Linear Regression,\n",
    "#    New York, 1980, pages 32-33.\n",
    "#\n",
    "#  Discussion:\n",
    "#\n",
    "#    For one year, the consumption of petrol was measured in 48 states.\n",
    "#    The relevant variables are the petrol tax, the average\n",
    "#    income per capita, the number of miles of paved highway, and\n",
    "#    the proportion of the population with driver's licenses.\n",
    "#\n",
    "#    There are 48 rows of data.  The data include:\n",
    "#\n",
    "#      I,  the index;\n",
    "#      A1, the petrol tax;\n",
    "#      A2, the per capita income;\n",
    "#      A3, the miles of paved highway;\n",
    "#      A4, the proportion of drivers;\n",
    "#      B,  the consumption of petrol.\n",
    "#\n",
    "#    We seek a model of the form:\n",
    "#\n",
    "#      B = A1 * X1 + A2 * X2 + A3 * X3 + A4 * X4.\n",
    "#\n",
    "# 6 columns\n",
    "# 48 rows\n",
    "\n",
    "petrol = pd.read_csv('data/x15.txt')"
   ]
  },
  {
   "cell_type": "code",
   "execution_count": 10,
   "id": "13757a8f",
   "metadata": {},
   "outputs": [],
   "source": [
    "#  x20.txt\n",
    "#\n",
    "#  Reference:\n",
    "#\n",
    "#    Helmut Spaeth,\n",
    "#    Mathematical Algorithms for Linear Regression,\n",
    "#    Academic Press, 1991,\n",
    "#    ISBN 0-12-656460-4.\n",
    "#\n",
    "#    K Brownlee,\n",
    "#    Statistical Theory and Methodology,\n",
    "#    Wiley, 1965, pages 464-465.\n",
    "#\n",
    "#  Discussion:\n",
    "#\n",
    "#    In various states, population and drinking data was recorded.\n",
    "#\n",
    "#    There are 46 rows of data.  The data includes:\n",
    "#\n",
    "#      I,  the index;\n",
    "#      A0, 1;\n",
    "#      A1, the size of the urban population,\n",
    "#      A2, the number of births to women between 45 to 49\n",
    "#          (actually, the reciprocal of that value, times 100)\n",
    "#      A3, the consumption of wine per capita,\n",
    "#      A4, the consumption of hard liquor per capita,\n",
    "#      B,  the death rate from cirrhosis.\n",
    "#\n",
    "#    We seek a model of the form:\n",
    "#\n",
    "#      B = A0 * X0 + A1 * X1 + A2 * X2 + A3 * X3 + A4 * X4.\n",
    "#    \n",
    "# 7 columns\n",
    "# 46 rows\n",
    "\n",
    "drink = pd.read_csv('data/x20.txt')"
   ]
  },
  {
   "cell_type": "code",
   "execution_count": 11,
   "id": "07de1491",
   "metadata": {},
   "outputs": [],
   "source": [
    "#  x27.txt\n",
    "#\n",
    "#  Reference:\n",
    "#\n",
    "#    S C Narula, J F Wellington,\n",
    "#    Linear Regression and the Minimum Sum of Relative Errors,\n",
    "#    Technometrics, Volume 19, 1977, pages 185-190.\n",
    "#\n",
    "#    Helmut Spaeth,\n",
    "#    Mathematical Algorithms for Linear Regression,\n",
    "#    Academic Press, 1991,\n",
    "#    ISBN 0-12-656460-4.\n",
    "#\n",
    "#  Discussion:\n",
    "#\n",
    "#    The selling price of houses is to be represented as a function of\n",
    "#    other variables.\n",
    "#\n",
    "#    There are 28 rows of data.  The data includes:\n",
    "#\n",
    "#      I,   the index;\n",
    "#      A0,  1;\n",
    "#      A1,  the local selling prices, in hundreds of dollars;\n",
    "#      A2,  the number of bathrooms;\n",
    "#      A3,  the area of the site in thousands of square feet;\n",
    "#      A4,  the size of the living space in thousands of square feet;\n",
    "#      A5,  the number of garages;\n",
    "#      A6,  the number of rooms;\n",
    "#      A7,  the number of bedrooms;\n",
    "#      A8,  the age in years;\n",
    "#      A9,  1 = brick, 2 = brick/wood, 3 = aluminum/wood, 4 = wood.\n",
    "#      A10, 1 = two story, 2 = split level, 3 = ranch\n",
    "#      A11, number of fire places.\n",
    "#      B,   the selling price.\n",
    "#\n",
    "#    We seek a model of the form:\n",
    "#\n",
    "#      B = A0 * X0 + A1 * X1 + A2 * X2 + A3 * X3 +  A4 *  X4 +  A5 *  X5 \n",
    "#        + A6 * X6 + A7 * X7 + A8 * X8 + A9 * X9 + A10 * X10 + A11 * X11\n",
    "# \n",
    "# 14 columns\n",
    "# 28 rows\n",
    "\n",
    "price = pd.read_csv('data/x27.txt')"
   ]
  },
  {
   "cell_type": "code",
   "execution_count": 12,
   "id": "704de3d1",
   "metadata": {},
   "outputs": [
    {
     "data": {
      "text/plain": [
       "Text(0, 0.5, 'Volume')"
      ]
     },
     "execution_count": 12,
     "metadata": {},
     "output_type": "execute_result"
    },
    {
     "data": {
      "image/png": "[encoded data removed]",
      "text/plain": [
       "<Figure size 640x480 with 1 Axes>"
      ]
     },
     "metadata": {},
     "output_type": "display_data"
    }
   ],
   "source": [
    "# Gráfico de dispersão matplot considerando o volume e a dispersão no conjunto de dados trees.csv\n",
    "\n",
    "plt.scatter(x=trees.Girth, y=trees.Volume)\n",
    "plt.title('Árvores')\n",
    "plt.xlabel('Circunferência')\n",
    "plt.ylabel('Volume')"
   ]
  },
  {
   "cell_type": "code",
   "execution_count": 13,
   "id": "b2aff0f0",
   "metadata": {},
   "outputs": [
    {
     "data": {
      "text/plain": [
       "<Axes: xlabel='Girth', ylabel='Volume'>"
      ]
     },
     "execution_count": 13,
     "metadata": {},
     "output_type": "execute_result"
    },
    {
     "data": {
      "image/png": "[encoded data removed]",
      "text/plain": [
       "<Figure size 640x480 with 1 Axes>"
      ]
     },
     "metadata": {},
     "output_type": "display_data"
    }
   ],
   "source": [
    "# Gráfico de dispersão usando sns com 'afastamento' dos dados (jitter)\n",
    "# fit_reg = linha de tendência\n",
    "\n",
    "sns.regplot(x=trees.Girth, y=trees.Volume, data=trees, x_jitter=0.3, fit_reg=True)"
   ]
  },
  {
   "cell_type": "code",
   "execution_count": 14,
   "id": "79862954",
   "metadata": {},
   "outputs": [
    {
     "data": {
      "text/html": [
       "<div>\n",
       "<style scoped>\n",
       "    .dataframe tbody tr th:only-of-type {\n",
       "        vertical-align: middle;\n",
       "    }\n",
       "\n",
       "    .dataframe tbody tr th {\n",
       "        vertical-align: top;\n",
       "    }\n",
       "\n",
       "    .dataframe thead th {\n",
       "        text-align: right;\n",
       "    }\n",
       "</style>\n",
       "<table border=\"1\" class=\"dataframe\">\n",
       "  <thead>\n",
       "    <tr style=\"text-align: right;\">\n",
       "      <th></th>\n",
       "      <th>Index</th>\n",
       "      <th>One</th>\n",
       "      <th>Urban_population</th>\n",
       "      <th>Late_births</th>\n",
       "      <th>Wine_consumption</th>\n",
       "      <th>Liquor_consumption</th>\n",
       "      <th>Cirrhosis_death</th>\n",
       "    </tr>\n",
       "  </thead>\n",
       "  <tbody>\n",
       "    <tr>\n",
       "      <th>0</th>\n",
       "      <td>1</td>\n",
       "      <td>1</td>\n",
       "      <td>44</td>\n",
       "      <td>33.2</td>\n",
       "      <td>5</td>\n",
       "      <td>30</td>\n",
       "      <td>41.2</td>\n",
       "    </tr>\n",
       "    <tr>\n",
       "      <th>1</th>\n",
       "      <td>2</td>\n",
       "      <td>1</td>\n",
       "      <td>43</td>\n",
       "      <td>33.8</td>\n",
       "      <td>4</td>\n",
       "      <td>41</td>\n",
       "      <td>31.7</td>\n",
       "    </tr>\n",
       "    <tr>\n",
       "      <th>2</th>\n",
       "      <td>3</td>\n",
       "      <td>1</td>\n",
       "      <td>48</td>\n",
       "      <td>40.6</td>\n",
       "      <td>3</td>\n",
       "      <td>38</td>\n",
       "      <td>39.4</td>\n",
       "    </tr>\n",
       "    <tr>\n",
       "      <th>3</th>\n",
       "      <td>4</td>\n",
       "      <td>1</td>\n",
       "      <td>52</td>\n",
       "      <td>39.2</td>\n",
       "      <td>7</td>\n",
       "      <td>48</td>\n",
       "      <td>57.5</td>\n",
       "    </tr>\n",
       "    <tr>\n",
       "      <th>4</th>\n",
       "      <td>5</td>\n",
       "      <td>1</td>\n",
       "      <td>71</td>\n",
       "      <td>45.5</td>\n",
       "      <td>11</td>\n",
       "      <td>53</td>\n",
       "      <td>74.8</td>\n",
       "    </tr>\n",
       "  </tbody>\n",
       "</table>\n",
       "</div>"
      ],
      "text/plain": [
       "   Index  One  Urban_population  Late_births  Wine_consumption  \\\n",
       "0      1    1                44         33.2                 5   \n",
       "1      2    1                43         33.8                 4   \n",
       "2      3    1                48         40.6                 3   \n",
       "3      4    1                52         39.2                 7   \n",
       "4      5    1                71         45.5                11   \n",
       "\n",
       "   Liquor_consumption  Cirrhosis_death  \n",
       "0                  30             41.2  \n",
       "1                  41             31.7  \n",
       "2                  38             39.4  \n",
       "3                  48             57.5  \n",
       "4                  53             74.8  "
      ]
     },
     "execution_count": 14,
     "metadata": {},
     "output_type": "execute_result"
    }
   ],
   "source": [
    "drink.head()"
   ]
  },
  {
   "cell_type": "code",
   "execution_count": 15,
   "id": "4fe91587",
   "metadata": {},
   "outputs": [
    {
     "data": {
      "text/plain": [
       "<Axes: xlabel='Wine_consumption', ylabel='Cirrhosis_death'>"
      ]
     },
     "execution_count": 15,
     "metadata": {},
     "output_type": "execute_result"
    },
    {
     "data": {
      "image/png": "[encoded data removed]",
      "text/plain": [
       "<Figure size 640x480 with 1 Axes>"
      ]
     },
     "metadata": {},
     "output_type": "display_data"
    }
   ],
   "source": [
    "# Gráfico de dispersão Consumo de Vinho x Mortes por cirrose\n",
    "\n",
    "sns.regplot(x=drink.Wine_consumption, y=drink.Cirrhosis_death, data=drink, x_jitter=0.3, fit_reg=True)"
   ]
  },
  {
   "cell_type": "code",
   "execution_count": 16,
   "id": "5e612495",
   "metadata": {},
   "outputs": [
    {
     "data": {
      "text/plain": [
       "<Axes: xlabel='Liquor_consumption', ylabel='Cirrhosis_death'>"
      ]
     },
     "execution_count": 16,
     "metadata": {},
     "output_type": "execute_result"
    },
    {
     "data": {
      "image/png": "[encoded data removed]",
      "text/plain": [
       "<Figure size 640x480 with 1 Axes>"
      ]
     },
     "metadata": {},
     "output_type": "display_data"
    }
   ],
   "source": [
    "# Gráfico de dispersão Consumo de Licor x Mortes por cirrose\n",
    "\n",
    "sns.regplot(x=drink.Liquor_consumption, y=drink.Cirrhosis_death, data=drink, x_jitter=0.3, fit_reg=True)"
   ]
  },
  {
   "cell_type": "code",
   "execution_count": 17,
   "id": "bdd81efd",
   "metadata": {},
   "outputs": [
    {
     "data": {
      "text/plain": [
       "<Axes: xlabel='Urban_population', ylabel='Cirrhosis_death'>"
      ]
     },
     "execution_count": 17,
     "metadata": {},
     "output_type": "execute_result"
    },
    {
     "data": {
      "image/png": "[encoded data removed]",
      "text/plain": [
       "<Figure size 640x480 with 1 Axes>"
      ]
     },
     "metadata": {},
     "output_type": "display_data"
    }
   ],
   "source": [
    "# Gráfico de dispersão População x Mortes por cirrose\n",
    "\n",
    "sns.regplot(x=drink.Urban_population, y=drink.Cirrhosis_death, data=drink, x_jitter=0.3, fit_reg=True)"
   ]
  },
  {
   "cell_type": "code",
   "execution_count": 18,
   "id": "5c535164",
   "metadata": {},
   "outputs": [
    {
     "data": {
      "text/plain": [
       "<Axes: xlabel='dist', ylabel='speed'>"
      ]
     },
     "execution_count": 18,
     "metadata": {},
     "output_type": "execute_result"
    },
    {
     "data": {
      "image/png": "[encoded data removed]",
      "text/plain": [
       "<Figure size 640x480 with 1 Axes>"
      ]
     },
     "metadata": {},
     "output_type": "display_data"
    }
   ],
   "source": [
    "# Gráfico de dispersão distancia x velocidade\n",
    "\n",
    "sns.regplot(x=cars.dist, y=cars.speed, data=cars, x_jitter=0.3, fit_reg=True)"
   ]
  },
  {
   "cell_type": "code",
   "execution_count": 19,
   "id": "a1516d65",
   "metadata": {},
   "outputs": [
    {
     "data": {
      "text/plain": [
       "[array([[1.        , 0.96711937],\n",
       "        [0.96711937, 1.        ]]),\n",
       " array([[1.        , 0.84461118],\n",
       "        [0.84461118, 1.        ]]),\n",
       " array([[1.        , 0.68196938],\n",
       "        [0.68196938, 1.        ]]),\n",
       " array([[1.        , 0.74907397],\n",
       "        [0.74907397, 1.        ]]),\n",
       " array([[1.       , 0.8068949],\n",
       "        [0.8068949, 1.       ]])]"
      ]
     },
     "execution_count": 19,
     "metadata": {},
     "output_type": "execute_result"
    }
   ],
   "source": [
    "[np.corrcoef(x=trees.Girth, y=trees.Volume),\n",
    "np.corrcoef(x=drink.Wine_consumption, y=drink.Cirrhosis_death),\n",
    "np.corrcoef(x=drink.Liquor_consumption, y=drink.Cirrhosis_death),\n",
    "np.corrcoef(x=drink.Urban_population, y=drink.Cirrhosis_death),\n",
    "np.corrcoef(x=cars.dist, y=cars.speed)]"
   ]
  },
  {
   "cell_type": "code",
   "execution_count": 20,
   "id": "de1aa5d9",
   "metadata": {},
   "outputs": [
    {
     "data": {
      "text/plain": [
       "<Axes: xlabel='dist', ylabel='dist'>"
      ]
     },
     "execution_count": 20,
     "metadata": {},
     "output_type": "execute_result"
    },
    {
     "data": {
      "image/png": "[encoded data removed]",
      "text/plain": [
       "<Figure size 640x480 with 1 Axes>"
      ]
     },
     "metadata": {},
     "output_type": "display_data"
    }
   ],
   "source": [
    "sns.regplot(x=cars.dist, y=cars.dist, data=cars, fit_reg=True)"
   ]
  },
  {
   "cell_type": "code",
   "execution_count": 21,
   "id": "c52a168a",
   "metadata": {},
   "outputs": [
    {
     "data": {
      "text/html": [
       "<div>\n",
       "<style scoped>\n",
       "    .dataframe tbody tr th:only-of-type {\n",
       "        vertical-align: middle;\n",
       "    }\n",
       "\n",
       "    .dataframe tbody tr th {\n",
       "        vertical-align: top;\n",
       "    }\n",
       "\n",
       "    .dataframe thead th {\n",
       "        text-align: right;\n",
       "    }\n",
       "</style>\n",
       "<table border=\"1\" class=\"dataframe\">\n",
       "  <thead>\n",
       "    <tr style=\"text-align: right;\">\n",
       "      <th></th>\n",
       "      <th>Unnamed: 0</th>\n",
       "      <th>speed</th>\n",
       "      <th>dist</th>\n",
       "    </tr>\n",
       "  </thead>\n",
       "  <tbody>\n",
       "    <tr>\n",
       "      <th>0</th>\n",
       "      <td>1</td>\n",
       "      <td>4</td>\n",
       "      <td>2</td>\n",
       "    </tr>\n",
       "    <tr>\n",
       "      <th>1</th>\n",
       "      <td>2</td>\n",
       "      <td>4</td>\n",
       "      <td>10</td>\n",
       "    </tr>\n",
       "    <tr>\n",
       "      <th>2</th>\n",
       "      <td>3</td>\n",
       "      <td>7</td>\n",
       "      <td>4</td>\n",
       "    </tr>\n",
       "    <tr>\n",
       "      <th>3</th>\n",
       "      <td>4</td>\n",
       "      <td>7</td>\n",
       "      <td>22</td>\n",
       "    </tr>\n",
       "    <tr>\n",
       "      <th>4</th>\n",
       "      <td>5</td>\n",
       "      <td>8</td>\n",
       "      <td>16</td>\n",
       "    </tr>\n",
       "  </tbody>\n",
       "</table>\n",
       "</div>"
      ],
      "text/plain": [
       "   Unnamed: 0  speed  dist\n",
       "0           1      4     2\n",
       "1           2      4    10\n",
       "2           3      7     4\n",
       "3           4      7    22\n",
       "4           5      8    16"
      ]
     },
     "execution_count": 21,
     "metadata": {},
     "output_type": "execute_result"
    }
   ],
   "source": [
    "cars.head()"
   ]
  },
  {
   "cell_type": "code",
   "execution_count": 22,
   "id": "e355cbd8",
   "metadata": {},
   "outputs": [
    {
     "data": {
      "text/plain": [
       "(array([  2,  10,   4,  22,  16,  10,  18,  26,  34,  17,  28,  14,  20,\n",
       "         24,  28,  26,  34,  34,  46,  26,  36,  60,  80,  20,  26,  54,\n",
       "         32,  40,  32,  40,  50,  42,  56,  76,  84,  36,  46,  68,  32,\n",
       "         48,  52,  56,  64,  66,  54,  70,  92,  93, 120,  85]),\n",
       " array([ 4,  4,  7,  7,  8,  9, 10, 10, 10, 11, 11, 12, 12, 12, 12, 13, 13,\n",
       "        13, 13, 14, 14, 14, 14, 15, 15, 15, 16, 16, 17, 17, 17, 18, 18, 18,\n",
       "        18, 19, 19, 19, 20, 20, 20, 20, 20, 22, 23, 24, 24, 24, 24, 25]))"
      ]
     },
     "execution_count": 22,
     "metadata": {},
     "output_type": "execute_result"
    }
   ],
   "source": [
    "x = cars.iloc[:, 2].values\n",
    "y = cars.iloc[:, 1].values\n",
    "x, y"
   ]
  },
  {
   "cell_type": "code",
   "execution_count": 23,
   "id": "994bd0cd",
   "metadata": {},
   "outputs": [
    {
     "data": {
      "text/plain": [
       "array([[  2],\n",
       "       [ 10],\n",
       "       [  4],\n",
       "       [ 22],\n",
       "       [ 16],\n",
       "       [ 10],\n",
       "       [ 18],\n",
       "       [ 26],\n",
       "       [ 34],\n",
       "       [ 17],\n",
       "       [ 28],\n",
       "       [ 14],\n",
       "       [ 20],\n",
       "       [ 24],\n",
       "       [ 28],\n",
       "       [ 26],\n",
       "       [ 34],\n",
       "       [ 34],\n",
       "       [ 46],\n",
       "       [ 26],\n",
       "       [ 36],\n",
       "       [ 60],\n",
       "       [ 80],\n",
       "       [ 20],\n",
       "       [ 26],\n",
       "       [ 54],\n",
       "       [ 32],\n",
       "       [ 40],\n",
       "       [ 32],\n",
       "       [ 40],\n",
       "       [ 50],\n",
       "       [ 42],\n",
       "       [ 56],\n",
       "       [ 76],\n",
       "       [ 84],\n",
       "       [ 36],\n",
       "       [ 46],\n",
       "       [ 68],\n",
       "       [ 32],\n",
       "       [ 48],\n",
       "       [ 52],\n",
       "       [ 56],\n",
       "       [ 64],\n",
       "       [ 66],\n",
       "       [ 54],\n",
       "       [ 70],\n",
       "       [ 92],\n",
       "       [ 93],\n",
       "       [120],\n",
       "       [ 85]])"
      ]
     },
     "execution_count": 23,
     "metadata": {},
     "output_type": "execute_result"
    }
   ],
   "source": [
    "x = x.reshape(-1, 1)\n",
    "x"
   ]
  },
  {
   "cell_type": "code",
   "execution_count": 24,
   "id": "c6a9a7dc",
   "metadata": {},
   "outputs": [
    {
     "data": {
      "text/html": [
       "<style>#sk-container-id-1 {color: black;}#sk-container-id-1 pre{padding: 0;}#sk-container-id-1 div.sk-toggleable {background-color: white;}#sk-container-id-1 label.sk-toggleable__label {cursor: pointer;display: block;width: 100%;margin-bottom: 0;padding: 0.3em;box-sizing: border-box;text-align: center;}#sk-container-id-1 label.sk-toggleable__label-arrow:before {content: \"▸\";float: left;margin-right: 0.25em;color: #696969;}#sk-container-id-1 label.sk-toggleable__label-arrow:hover:before {color: black;}#sk-container-id-1 div.sk-estimator:hover label.sk-toggleable__label-arrow:before {color: black;}#sk-container-id-1 div.sk-toggleable__content {max-height: 0;max-width: 0;overflow: hidden;text-align: left;background-color: #f0f8ff;}#sk-container-id-1 div.sk-toggleable__content pre {margin: 0.2em;color: black;border-radius: 0.25em;background-color: #f0f8ff;}#sk-container-id-1 input.sk-toggleable__control:checked~div.sk-toggleable__content {max-height: 200px;max-width: 100%;overflow: auto;}#sk-container-id-1 input.sk-toggleable__control:checked~label.sk-toggleable__label-arrow:before {content: \"▾\";}#sk-container-id-1 div.sk-estimator input.sk-toggleable__control:checked~label.sk-toggleable__label {background-color: #d4ebff;}#sk-container-id-1 div.sk-label input.sk-toggleable__control:checked~label.sk-toggleable__label {background-color: #d4ebff;}#sk-container-id-1 input.sk-hidden--visually {border: 0;clip: rect(1px 1px 1px 1px);clip: rect(1px, 1px, 1px, 1px);height: 1px;margin: -1px;overflow: hidden;padding: 0;position: absolute;width: 1px;}#sk-container-id-1 div.sk-estimator {font-family: monospace;background-color: #f0f8ff;border: 1px dotted black;border-radius: 0.25em;box-sizing: border-box;margin-bottom: 0.5em;}#sk-container-id-1 div.sk-estimator:hover {background-color: #d4ebff;}#sk-container-id-1 div.sk-parallel-item::after {content: \"\";width: 100%;border-bottom: 1px solid gray;flex-grow: 1;}#sk-container-id-1 div.sk-label:hover label.sk-toggleable__label {background-color: #d4ebff;}#sk-container-id-1 div.sk-serial::before {content: \"\";position: absolute;border-left: 1px solid gray;box-sizing: border-box;top: 0;bottom: 0;left: 50%;z-index: 0;}#sk-container-id-1 div.sk-serial {display: flex;flex-direction: column;align-items: center;background-color: white;padding-right: 0.2em;padding-left: 0.2em;position: relative;}#sk-container-id-1 div.sk-item {position: relative;z-index: 1;}#sk-container-id-1 div.sk-parallel {display: flex;align-items: stretch;justify-content: center;background-color: white;position: relative;}#sk-container-id-1 div.sk-item::before, #sk-container-id-1 div.sk-parallel-item::before {content: \"\";position: absolute;border-left: 1px solid gray;box-sizing: border-box;top: 0;bottom: 0;left: 50%;z-index: -1;}#sk-container-id-1 div.sk-parallel-item {display: flex;flex-direction: column;z-index: 1;position: relative;background-color: white;}#sk-container-id-1 div.sk-parallel-item:first-child::after {align-self: flex-end;width: 50%;}#sk-container-id-1 div.sk-parallel-item:last-child::after {align-self: flex-start;width: 50%;}#sk-container-id-1 div.sk-parallel-item:only-child::after {width: 0;}#sk-container-id-1 div.sk-dashed-wrapped {border: 1px dashed gray;margin: 0 0.4em 0.5em 0.4em;box-sizing: border-box;padding-bottom: 0.4em;background-color: white;}#sk-container-id-1 div.sk-label label {font-family: monospace;font-weight: bold;display: inline-block;line-height: 1.2em;}#sk-container-id-1 div.sk-label-container {text-align: center;}#sk-container-id-1 div.sk-container {/* jupyter's `normalize.less` sets `[hidden] { display: none; }` but bootstrap.min.css set `[hidden] { display: none !important; }` so we also need the `!important` here to be able to override the default hidden behavior on the sphinx rendered scikit-learn.org. See: https://github.com/scikit-learn/scikit-learn/issues/21755 */display: inline-block !important;position: relative;}#sk-container-id-1 div.sk-text-repr-fallback {display: none;}</style><div id=\"sk-container-id-1\" class=\"sk-top-container\"><div class=\"sk-text-repr-fallback\"><pre>LinearRegression()</pre><b>In a Jupyter environment, please rerun this cell to show the HTML representation or trust the notebook. <br />On GitHub, the HTML representation is unable to render, please try loading this page with nbviewer.org.</b></div><div class=\"sk-container\" hidden><div class=\"sk-item\"><div class=\"sk-estimator sk-toggleable\"><input class=\"sk-toggleable__control sk-hidden--visually\" id=\"sk-estimator-id-1\" type=\"checkbox\" checked><label for=\"sk-estimator-id-1\" class=\"sk-toggleable__label sk-toggleable__label-arrow\">LinearRegression</label><div class=\"sk-toggleable__content\"><pre>LinearRegression()</pre></div></div></div></div></div>"
      ],
      "text/plain": [
       "LinearRegression()"
      ]
     },
     "execution_count": 24,
     "metadata": {},
     "output_type": "execute_result"
    }
   ],
   "source": [
    "model = LinearRegression()\n",
    "model.fit(x, y)"
   ]
  },
  {
   "cell_type": "code",
   "execution_count": 25,
   "id": "6e4e2151",
   "metadata": {},
   "outputs": [
    {
     "data": {
      "text/plain": [
       "8.28390564178717"
      ]
     },
     "execution_count": 25,
     "metadata": {},
     "output_type": "execute_result"
    }
   ],
   "source": [
    "model.intercept_"
   ]
  },
  {
   "cell_type": "code",
   "execution_count": 26,
   "id": "ba0ed483",
   "metadata": {},
   "outputs": [
    {
     "data": {
      "text/plain": [
       "array([0.16556757])"
      ]
     },
     "execution_count": 26,
     "metadata": {},
     "output_type": "execute_result"
    }
   ],
   "source": [
    "model.coef_"
   ]
  },
  {
   "cell_type": "code",
   "execution_count": 27,
   "id": "532d618f",
   "metadata": {},
   "outputs": [
    {
     "data": {
      "text/plain": [
       "<Axes: >"
      ]
     },
     "execution_count": 27,
     "metadata": {},
     "output_type": "execute_result"
    },
    {
     "data": {
      "image/png": "[encoded data removed]",
      "text/plain": [
       "<Figure size 1200x400 with 2 Axes>"
      ]
     },
     "metadata": {},
     "output_type": "display_data"
    }
   ],
   "source": [
    "plt.figure(figsize=(12, 4))\n",
    "\n",
    "plt.subplot(1, 2, 1)\n",
    "sns.regplot(x=x, y=y, data=cars, fit_reg=True)\n",
    "plt.plot(x, model.predict(x), color='red')\n",
    "\n",
    "plt.subplot(1, 2, 2)\n",
    "sns.regplot(x=x, y=y, data=cars, fit_reg=True)"
   ]
  },
  {
   "cell_type": "code",
   "execution_count": 28,
   "id": "cb1c6021",
   "metadata": {},
   "outputs": [
    {
     "data": {
      "text/plain": [
       "[array([11.92639228]), array([11.92639228])]"
      ]
     },
     "execution_count": 28,
     "metadata": {},
     "output_type": "execute_result"
    }
   ],
   "source": [
    "[model.intercept_ + model.coef_ * 22,\n",
    "model.predict(np.array(22).reshape(-1, 1))]"
   ]
  },
  {
   "cell_type": "code",
   "execution_count": 29,
   "id": "c7f3b330",
   "metadata": {},
   "outputs": [
    {
     "data": {
      "text/plain": [
       "[array([11.92639228]), array([11.92639228])]"
      ]
     },
     "execution_count": 29,
     "metadata": {},
     "output_type": "execute_result"
    }
   ],
   "source": [
    "[model.intercept_ + model.coef_ * 22,\n",
    "model.predict([[22]])]"
   ]
  },
  {
   "cell_type": "code",
   "execution_count": 30,
   "id": "f9c072f3",
   "metadata": {},
   "outputs": [
    {
     "data": {
      "text/plain": [
       "0.6510793807582508"
      ]
     },
     "execution_count": 30,
     "metadata": {},
     "output_type": "execute_result"
    }
   ],
   "source": [
    "model.score(x, y)"
   ]
  },
  {
   "cell_type": "code",
   "execution_count": 31,
   "id": "95d3d008",
   "metadata": {},
   "outputs": [
    {
     "data": {
      "text/html": [
       "<div>\n",
       "<style scoped>\n",
       "    .dataframe tbody tr th:only-of-type {\n",
       "        vertical-align: middle;\n",
       "    }\n",
       "\n",
       "    .dataframe tbody tr th {\n",
       "        vertical-align: top;\n",
       "    }\n",
       "\n",
       "    .dataframe thead th {\n",
       "        text-align: right;\n",
       "    }\n",
       "</style>\n",
       "<table border=\"1\" class=\"dataframe\">\n",
       "  <thead>\n",
       "    <tr style=\"text-align: right;\">\n",
       "      <th></th>\n",
       "      <th>Unnamed: 0</th>\n",
       "      <th>mpg</th>\n",
       "      <th>cyl</th>\n",
       "      <th>disp</th>\n",
       "      <th>hp</th>\n",
       "      <th>drat</th>\n",
       "      <th>wt</th>\n",
       "      <th>qsec</th>\n",
       "      <th>vs</th>\n",
       "      <th>am</th>\n",
       "      <th>gear</th>\n",
       "      <th>carb</th>\n",
       "    </tr>\n",
       "  </thead>\n",
       "  <tbody>\n",
       "    <tr>\n",
       "      <th>0</th>\n",
       "      <td>Mazda RX4</td>\n",
       "      <td>21.0</td>\n",
       "      <td>6</td>\n",
       "      <td>160.0</td>\n",
       "      <td>110</td>\n",
       "      <td>3.90</td>\n",
       "      <td>2.620</td>\n",
       "      <td>16.46</td>\n",
       "      <td>0</td>\n",
       "      <td>1</td>\n",
       "      <td>4</td>\n",
       "      <td>4</td>\n",
       "    </tr>\n",
       "    <tr>\n",
       "      <th>1</th>\n",
       "      <td>Mazda RX4 Wag</td>\n",
       "      <td>21.0</td>\n",
       "      <td>6</td>\n",
       "      <td>160.0</td>\n",
       "      <td>110</td>\n",
       "      <td>3.90</td>\n",
       "      <td>2.875</td>\n",
       "      <td>17.02</td>\n",
       "      <td>0</td>\n",
       "      <td>1</td>\n",
       "      <td>4</td>\n",
       "      <td>4</td>\n",
       "    </tr>\n",
       "    <tr>\n",
       "      <th>2</th>\n",
       "      <td>Datsun 710</td>\n",
       "      <td>22.8</td>\n",
       "      <td>4</td>\n",
       "      <td>108.0</td>\n",
       "      <td>93</td>\n",
       "      <td>3.85</td>\n",
       "      <td>2.320</td>\n",
       "      <td>18.61</td>\n",
       "      <td>1</td>\n",
       "      <td>1</td>\n",
       "      <td>4</td>\n",
       "      <td>1</td>\n",
       "    </tr>\n",
       "    <tr>\n",
       "      <th>3</th>\n",
       "      <td>Hornet 4 Drive</td>\n",
       "      <td>21.4</td>\n",
       "      <td>6</td>\n",
       "      <td>258.0</td>\n",
       "      <td>110</td>\n",
       "      <td>3.08</td>\n",
       "      <td>3.215</td>\n",
       "      <td>19.44</td>\n",
       "      <td>1</td>\n",
       "      <td>0</td>\n",
       "      <td>3</td>\n",
       "      <td>1</td>\n",
       "    </tr>\n",
       "    <tr>\n",
       "      <th>4</th>\n",
       "      <td>Hornet Sportabout</td>\n",
       "      <td>18.7</td>\n",
       "      <td>8</td>\n",
       "      <td>360.0</td>\n",
       "      <td>175</td>\n",
       "      <td>3.15</td>\n",
       "      <td>3.440</td>\n",
       "      <td>17.02</td>\n",
       "      <td>0</td>\n",
       "      <td>0</td>\n",
       "      <td>3</td>\n",
       "      <td>2</td>\n",
       "    </tr>\n",
       "  </tbody>\n",
       "</table>\n",
       "</div>"
      ],
      "text/plain": [
       "          Unnamed: 0   mpg  cyl   disp   hp  drat     wt   qsec  vs  am  gear  \\\n",
       "0          Mazda RX4  21.0    6  160.0  110  3.90  2.620  16.46   0   1     4   \n",
       "1      Mazda RX4 Wag  21.0    6  160.0  110  3.90  2.875  17.02   0   1     4   \n",
       "2         Datsun 710  22.8    4  108.0   93  3.85  2.320  18.61   1   1     4   \n",
       "3     Hornet 4 Drive  21.4    6  258.0  110  3.08  3.215  19.44   1   0     3   \n",
       "4  Hornet Sportabout  18.7    8  360.0  175  3.15  3.440  17.02   0   0     3   \n",
       "\n",
       "   carb  \n",
       "0     4  \n",
       "1     4  \n",
       "2     1  \n",
       "3     1  \n",
       "4     2  "
      ]
     },
     "execution_count": 31,
     "metadata": {},
     "output_type": "execute_result"
    }
   ],
   "source": [
    "# mpg = milhas por galão\n",
    "# cyl = cilindros\n",
    "# disp = cilindradas\n",
    "# hp = cavalos\n",
    "\n",
    "mt_cars.head()"
   ]
  },
  {
   "cell_type": "code",
   "execution_count": 32,
   "id": "111b5232",
   "metadata": {},
   "outputs": [
    {
     "data": {
      "text/plain": [
       "array([[ 1.        , -0.84755138],\n",
       "       [-0.84755138,  1.        ]])"
      ]
     },
     "execution_count": 32,
     "metadata": {},
     "output_type": "execute_result"
    }
   ],
   "source": [
    "x = mt_cars.iloc[:, 3].values #disp\n",
    "y = mt_cars.iloc[:, 1].values #mpg\n",
    "np.corrcoef(x, y)"
   ]
  },
  {
   "cell_type": "code",
   "execution_count": 33,
   "id": "a2a594e7",
   "metadata": {},
   "outputs": [
    {
     "data": {
      "text/html": [
       "<div>\n",
       "<style scoped>\n",
       "    .dataframe tbody tr th:only-of-type {\n",
       "        vertical-align: middle;\n",
       "    }\n",
       "\n",
       "    .dataframe tbody tr th {\n",
       "        vertical-align: top;\n",
       "    }\n",
       "\n",
       "    .dataframe thead th {\n",
       "        text-align: right;\n",
       "    }\n",
       "</style>\n",
       "<table border=\"1\" class=\"dataframe\">\n",
       "  <thead>\n",
       "    <tr style=\"text-align: right;\">\n",
       "      <th></th>\n",
       "      <th>disp</th>\n",
       "      <th>mpg</th>\n",
       "    </tr>\n",
       "  </thead>\n",
       "  <tbody>\n",
       "    <tr>\n",
       "      <th>19</th>\n",
       "      <td>71.1</td>\n",
       "      <td>33.9</td>\n",
       "    </tr>\n",
       "    <tr>\n",
       "      <th>18</th>\n",
       "      <td>75.7</td>\n",
       "      <td>30.4</td>\n",
       "    </tr>\n",
       "    <tr>\n",
       "      <th>17</th>\n",
       "      <td>78.7</td>\n",
       "      <td>32.4</td>\n",
       "    </tr>\n",
       "    <tr>\n",
       "      <th>25</th>\n",
       "      <td>79.0</td>\n",
       "      <td>27.3</td>\n",
       "    </tr>\n",
       "    <tr>\n",
       "      <th>27</th>\n",
       "      <td>95.1</td>\n",
       "      <td>30.4</td>\n",
       "    </tr>\n",
       "    <tr>\n",
       "      <th>2</th>\n",
       "      <td>108.0</td>\n",
       "      <td>22.8</td>\n",
       "    </tr>\n",
       "    <tr>\n",
       "      <th>20</th>\n",
       "      <td>120.1</td>\n",
       "      <td>21.5</td>\n",
       "    </tr>\n",
       "    <tr>\n",
       "      <th>26</th>\n",
       "      <td>120.3</td>\n",
       "      <td>26.0</td>\n",
       "    </tr>\n",
       "    <tr>\n",
       "      <th>31</th>\n",
       "      <td>121.0</td>\n",
       "      <td>21.4</td>\n",
       "    </tr>\n",
       "    <tr>\n",
       "      <th>8</th>\n",
       "      <td>140.8</td>\n",
       "      <td>22.8</td>\n",
       "    </tr>\n",
       "    <tr>\n",
       "      <th>29</th>\n",
       "      <td>145.0</td>\n",
       "      <td>19.7</td>\n",
       "    </tr>\n",
       "    <tr>\n",
       "      <th>7</th>\n",
       "      <td>146.7</td>\n",
       "      <td>24.4</td>\n",
       "    </tr>\n",
       "    <tr>\n",
       "      <th>0</th>\n",
       "      <td>160.0</td>\n",
       "      <td>21.0</td>\n",
       "    </tr>\n",
       "    <tr>\n",
       "      <th>1</th>\n",
       "      <td>160.0</td>\n",
       "      <td>21.0</td>\n",
       "    </tr>\n",
       "    <tr>\n",
       "      <th>10</th>\n",
       "      <td>167.6</td>\n",
       "      <td>17.8</td>\n",
       "    </tr>\n",
       "    <tr>\n",
       "      <th>9</th>\n",
       "      <td>167.6</td>\n",
       "      <td>19.2</td>\n",
       "    </tr>\n",
       "    <tr>\n",
       "      <th>5</th>\n",
       "      <td>225.0</td>\n",
       "      <td>18.1</td>\n",
       "    </tr>\n",
       "    <tr>\n",
       "      <th>3</th>\n",
       "      <td>258.0</td>\n",
       "      <td>21.4</td>\n",
       "    </tr>\n",
       "    <tr>\n",
       "      <th>13</th>\n",
       "      <td>275.8</td>\n",
       "      <td>15.2</td>\n",
       "    </tr>\n",
       "    <tr>\n",
       "      <th>11</th>\n",
       "      <td>275.8</td>\n",
       "      <td>16.4</td>\n",
       "    </tr>\n",
       "    <tr>\n",
       "      <th>12</th>\n",
       "      <td>275.8</td>\n",
       "      <td>17.3</td>\n",
       "    </tr>\n",
       "    <tr>\n",
       "      <th>30</th>\n",
       "      <td>301.0</td>\n",
       "      <td>15.0</td>\n",
       "    </tr>\n",
       "    <tr>\n",
       "      <th>22</th>\n",
       "      <td>304.0</td>\n",
       "      <td>15.2</td>\n",
       "    </tr>\n",
       "    <tr>\n",
       "      <th>21</th>\n",
       "      <td>318.0</td>\n",
       "      <td>15.5</td>\n",
       "    </tr>\n",
       "    <tr>\n",
       "      <th>23</th>\n",
       "      <td>350.0</td>\n",
       "      <td>13.3</td>\n",
       "    </tr>\n",
       "    <tr>\n",
       "      <th>28</th>\n",
       "      <td>351.0</td>\n",
       "      <td>15.8</td>\n",
       "    </tr>\n",
       "    <tr>\n",
       "      <th>6</th>\n",
       "      <td>360.0</td>\n",
       "      <td>14.3</td>\n",
       "    </tr>\n",
       "    <tr>\n",
       "      <th>4</th>\n",
       "      <td>360.0</td>\n",
       "      <td>18.7</td>\n",
       "    </tr>\n",
       "    <tr>\n",
       "      <th>24</th>\n",
       "      <td>400.0</td>\n",
       "      <td>19.2</td>\n",
       "    </tr>\n",
       "    <tr>\n",
       "      <th>16</th>\n",
       "      <td>440.0</td>\n",
       "      <td>14.7</td>\n",
       "    </tr>\n",
       "    <tr>\n",
       "      <th>15</th>\n",
       "      <td>460.0</td>\n",
       "      <td>10.4</td>\n",
       "    </tr>\n",
       "    <tr>\n",
       "      <th>14</th>\n",
       "      <td>472.0</td>\n",
       "      <td>10.4</td>\n",
       "    </tr>\n",
       "  </tbody>\n",
       "</table>\n",
       "</div>"
      ],
      "text/plain": [
       "     disp   mpg\n",
       "19   71.1  33.9\n",
       "18   75.7  30.4\n",
       "17   78.7  32.4\n",
       "25   79.0  27.3\n",
       "27   95.1  30.4\n",
       "2   108.0  22.8\n",
       "20  120.1  21.5\n",
       "26  120.3  26.0\n",
       "31  121.0  21.4\n",
       "8   140.8  22.8\n",
       "29  145.0  19.7\n",
       "7   146.7  24.4\n",
       "0   160.0  21.0\n",
       "1   160.0  21.0\n",
       "10  167.6  17.8\n",
       "9   167.6  19.2\n",
       "5   225.0  18.1\n",
       "3   258.0  21.4\n",
       "13  275.8  15.2\n",
       "11  275.8  16.4\n",
       "12  275.8  17.3\n",
       "30  301.0  15.0\n",
       "22  304.0  15.2\n",
       "21  318.0  15.5\n",
       "23  350.0  13.3\n",
       "28  351.0  15.8\n",
       "6   360.0  14.3\n",
       "4   360.0  18.7\n",
       "24  400.0  19.2\n",
       "16  440.0  14.7\n",
       "15  460.0  10.4\n",
       "14  472.0  10.4"
      ]
     },
     "execution_count": 33,
     "metadata": {},
     "output_type": "execute_result"
    }
   ],
   "source": [
    "mt_cars[['disp', 'mpg']].sort_values('disp')"
   ]
  },
  {
   "cell_type": "code",
   "execution_count": 34,
   "id": "e6cb95fb",
   "metadata": {},
   "outputs": [],
   "source": [
    "x = x.reshape(-1, 1)"
   ]
  },
  {
   "cell_type": "code",
   "execution_count": 35,
   "id": "50cd267f",
   "metadata": {},
   "outputs": [
    {
     "data": {
      "text/html": [
       "<style>#sk-container-id-2 {color: black;}#sk-container-id-2 pre{padding: 0;}#sk-container-id-2 div.sk-toggleable {background-color: white;}#sk-container-id-2 label.sk-toggleable__label {cursor: pointer;display: block;width: 100%;margin-bottom: 0;padding: 0.3em;box-sizing: border-box;text-align: center;}#sk-container-id-2 label.sk-toggleable__label-arrow:before {content: \"▸\";float: left;margin-right: 0.25em;color: #696969;}#sk-container-id-2 label.sk-toggleable__label-arrow:hover:before {color: black;}#sk-container-id-2 div.sk-estimator:hover label.sk-toggleable__label-arrow:before {color: black;}#sk-container-id-2 div.sk-toggleable__content {max-height: 0;max-width: 0;overflow: hidden;text-align: left;background-color: #f0f8ff;}#sk-container-id-2 div.sk-toggleable__content pre {margin: 0.2em;color: black;border-radius: 0.25em;background-color: #f0f8ff;}#sk-container-id-2 input.sk-toggleable__control:checked~div.sk-toggleable__content {max-height: 200px;max-width: 100%;overflow: auto;}#sk-container-id-2 input.sk-toggleable__control:checked~label.sk-toggleable__label-arrow:before {content: \"▾\";}#sk-container-id-2 div.sk-estimator input.sk-toggleable__control:checked~label.sk-toggleable__label {background-color: #d4ebff;}#sk-container-id-2 div.sk-label input.sk-toggleable__control:checked~label.sk-toggleable__label {background-color: #d4ebff;}#sk-container-id-2 input.sk-hidden--visually {border: 0;clip: rect(1px 1px 1px 1px);clip: rect(1px, 1px, 1px, 1px);height: 1px;margin: -1px;overflow: hidden;padding: 0;position: absolute;width: 1px;}#sk-container-id-2 div.sk-estimator {font-family: monospace;background-color: #f0f8ff;border: 1px dotted black;border-radius: 0.25em;box-sizing: border-box;margin-bottom: 0.5em;}#sk-container-id-2 div.sk-estimator:hover {background-color: #d4ebff;}#sk-container-id-2 div.sk-parallel-item::after {content: \"\";width: 100%;border-bottom: 1px solid gray;flex-grow: 1;}#sk-container-id-2 div.sk-label:hover label.sk-toggleable__label {background-color: #d4ebff;}#sk-container-id-2 div.sk-serial::before {content: \"\";position: absolute;border-left: 1px solid gray;box-sizing: border-box;top: 0;bottom: 0;left: 50%;z-index: 0;}#sk-container-id-2 div.sk-serial {display: flex;flex-direction: column;align-items: center;background-color: white;padding-right: 0.2em;padding-left: 0.2em;position: relative;}#sk-container-id-2 div.sk-item {position: relative;z-index: 1;}#sk-container-id-2 div.sk-parallel {display: flex;align-items: stretch;justify-content: center;background-color: white;position: relative;}#sk-container-id-2 div.sk-item::before, #sk-container-id-2 div.sk-parallel-item::before {content: \"\";position: absolute;border-left: 1px solid gray;box-sizing: border-box;top: 0;bottom: 0;left: 50%;z-index: -1;}#sk-container-id-2 div.sk-parallel-item {display: flex;flex-direction: column;z-index: 1;position: relative;background-color: white;}#sk-container-id-2 div.sk-parallel-item:first-child::after {align-self: flex-end;width: 50%;}#sk-container-id-2 div.sk-parallel-item:last-child::after {align-self: flex-start;width: 50%;}#sk-container-id-2 div.sk-parallel-item:only-child::after {width: 0;}#sk-container-id-2 div.sk-dashed-wrapped {border: 1px dashed gray;margin: 0 0.4em 0.5em 0.4em;box-sizing: border-box;padding-bottom: 0.4em;background-color: white;}#sk-container-id-2 div.sk-label label {font-family: monospace;font-weight: bold;display: inline-block;line-height: 1.2em;}#sk-container-id-2 div.sk-label-container {text-align: center;}#sk-container-id-2 div.sk-container {/* jupyter's `normalize.less` sets `[hidden] { display: none; }` but bootstrap.min.css set `[hidden] { display: none !important; }` so we also need the `!important` here to be able to override the default hidden behavior on the sphinx rendered scikit-learn.org. See: https://github.com/scikit-learn/scikit-learn/issues/21755 */display: inline-block !important;position: relative;}#sk-container-id-2 div.sk-text-repr-fallback {display: none;}</style><div id=\"sk-container-id-2\" class=\"sk-top-container\"><div class=\"sk-text-repr-fallback\"><pre>LinearRegression()</pre><b>In a Jupyter environment, please rerun this cell to show the HTML representation or trust the notebook. <br />On GitHub, the HTML representation is unable to render, please try loading this page with nbviewer.org.</b></div><div class=\"sk-container\" hidden><div class=\"sk-item\"><div class=\"sk-estimator sk-toggleable\"><input class=\"sk-toggleable__control sk-hidden--visually\" id=\"sk-estimator-id-2\" type=\"checkbox\" checked><label for=\"sk-estimator-id-2\" class=\"sk-toggleable__label sk-toggleable__label-arrow\">LinearRegression</label><div class=\"sk-toggleable__content\"><pre>LinearRegression()</pre></div></div></div></div></div>"
      ],
      "text/plain": [
       "LinearRegression()"
      ]
     },
     "execution_count": 35,
     "metadata": {},
     "output_type": "execute_result"
    }
   ],
   "source": [
    "model.fit(x, y)"
   ]
  },
  {
   "cell_type": "code",
   "execution_count": 36,
   "id": "2c28ace9",
   "metadata": {},
   "outputs": [
    {
     "data": {
      "text/plain": [
       "array([23.00543556])"
      ]
     },
     "execution_count": 36,
     "metadata": {},
     "output_type": "execute_result"
    }
   ],
   "source": [
    "model.predict(x[0].reshape(-1, 1))"
   ]
  },
  {
   "cell_type": "code",
   "execution_count": 37,
   "id": "49947f5b",
   "metadata": {},
   "outputs": [
    {
     "data": {
      "text/plain": [
       "(29.59985475616395, array([-0.04121512]))"
      ]
     },
     "execution_count": 37,
     "metadata": {},
     "output_type": "execute_result"
    }
   ],
   "source": [
    "model.intercept_, model.coef_"
   ]
  },
  {
   "cell_type": "code",
   "execution_count": 38,
   "id": "b8ce84a6",
   "metadata": {},
   "outputs": [
    {
     "data": {
      "text/plain": [
       "0.7183433404897299"
      ]
     },
     "execution_count": 38,
     "metadata": {},
     "output_type": "execute_result"
    }
   ],
   "source": [
    "model.score(x, y)"
   ]
  },
  {
   "cell_type": "code",
   "execution_count": 39,
   "id": "484f9d46",
   "metadata": {},
   "outputs": [
    {
     "data": {
      "text/plain": [
       "[<matplotlib.lines.Line2D at 0x7f37837e84d0>]"
      ]
     },
     "execution_count": 39,
     "metadata": {},
     "output_type": "execute_result"
    },
    {
     "data": {
      "image/png": "[encoded data removed]",
      "text/plain": [
       "<Figure size 640x480 with 1 Axes>"
      ]
     },
     "metadata": {},
     "output_type": "display_data"
    }
   ],
   "source": [
    "plt.scatter(x=x, y=y)\n",
    "plt.plot(x, model.predict(x), color='red')"
   ]
  },
  {
   "cell_type": "code",
   "execution_count": 40,
   "id": "3b1988a9",
   "metadata": {},
   "outputs": [
    {
     "data": {
      "text/html": [
       "<div>\n",
       "<style scoped>\n",
       "    .dataframe tbody tr th:only-of-type {\n",
       "        vertical-align: middle;\n",
       "    }\n",
       "\n",
       "    .dataframe tbody tr th {\n",
       "        vertical-align: top;\n",
       "    }\n",
       "\n",
       "    .dataframe thead th {\n",
       "        text-align: right;\n",
       "    }\n",
       "</style>\n",
       "<table border=\"1\" class=\"dataframe\">\n",
       "  <thead>\n",
       "    <tr style=\"text-align: right;\">\n",
       "      <th></th>\n",
       "      <th>mpg</th>\n",
       "      <th>cyl</th>\n",
       "      <th>disp</th>\n",
       "      <th>hp</th>\n",
       "    </tr>\n",
       "  </thead>\n",
       "  <tbody>\n",
       "    <tr>\n",
       "      <th>0</th>\n",
       "      <td>21.0</td>\n",
       "      <td>6</td>\n",
       "      <td>160.0</td>\n",
       "      <td>110</td>\n",
       "    </tr>\n",
       "    <tr>\n",
       "      <th>1</th>\n",
       "      <td>21.0</td>\n",
       "      <td>6</td>\n",
       "      <td>160.0</td>\n",
       "      <td>110</td>\n",
       "    </tr>\n",
       "    <tr>\n",
       "      <th>2</th>\n",
       "      <td>22.8</td>\n",
       "      <td>4</td>\n",
       "      <td>108.0</td>\n",
       "      <td>93</td>\n",
       "    </tr>\n",
       "    <tr>\n",
       "      <th>3</th>\n",
       "      <td>21.4</td>\n",
       "      <td>6</td>\n",
       "      <td>258.0</td>\n",
       "      <td>110</td>\n",
       "    </tr>\n",
       "    <tr>\n",
       "      <th>4</th>\n",
       "      <td>18.7</td>\n",
       "      <td>8</td>\n",
       "      <td>360.0</td>\n",
       "      <td>175</td>\n",
       "    </tr>\n",
       "    <tr>\n",
       "      <th>5</th>\n",
       "      <td>18.1</td>\n",
       "      <td>6</td>\n",
       "      <td>225.0</td>\n",
       "      <td>105</td>\n",
       "    </tr>\n",
       "    <tr>\n",
       "      <th>6</th>\n",
       "      <td>14.3</td>\n",
       "      <td>8</td>\n",
       "      <td>360.0</td>\n",
       "      <td>245</td>\n",
       "    </tr>\n",
       "    <tr>\n",
       "      <th>7</th>\n",
       "      <td>24.4</td>\n",
       "      <td>4</td>\n",
       "      <td>146.7</td>\n",
       "      <td>62</td>\n",
       "    </tr>\n",
       "    <tr>\n",
       "      <th>8</th>\n",
       "      <td>22.8</td>\n",
       "      <td>4</td>\n",
       "      <td>140.8</td>\n",
       "      <td>95</td>\n",
       "    </tr>\n",
       "    <tr>\n",
       "      <th>9</th>\n",
       "      <td>19.2</td>\n",
       "      <td>6</td>\n",
       "      <td>167.6</td>\n",
       "      <td>123</td>\n",
       "    </tr>\n",
       "    <tr>\n",
       "      <th>10</th>\n",
       "      <td>17.8</td>\n",
       "      <td>6</td>\n",
       "      <td>167.6</td>\n",
       "      <td>123</td>\n",
       "    </tr>\n",
       "    <tr>\n",
       "      <th>11</th>\n",
       "      <td>16.4</td>\n",
       "      <td>8</td>\n",
       "      <td>275.8</td>\n",
       "      <td>180</td>\n",
       "    </tr>\n",
       "    <tr>\n",
       "      <th>12</th>\n",
       "      <td>17.3</td>\n",
       "      <td>8</td>\n",
       "      <td>275.8</td>\n",
       "      <td>180</td>\n",
       "    </tr>\n",
       "    <tr>\n",
       "      <th>13</th>\n",
       "      <td>15.2</td>\n",
       "      <td>8</td>\n",
       "      <td>275.8</td>\n",
       "      <td>180</td>\n",
       "    </tr>\n",
       "    <tr>\n",
       "      <th>14</th>\n",
       "      <td>10.4</td>\n",
       "      <td>8</td>\n",
       "      <td>472.0</td>\n",
       "      <td>205</td>\n",
       "    </tr>\n",
       "    <tr>\n",
       "      <th>15</th>\n",
       "      <td>10.4</td>\n",
       "      <td>8</td>\n",
       "      <td>460.0</td>\n",
       "      <td>215</td>\n",
       "    </tr>\n",
       "    <tr>\n",
       "      <th>16</th>\n",
       "      <td>14.7</td>\n",
       "      <td>8</td>\n",
       "      <td>440.0</td>\n",
       "      <td>230</td>\n",
       "    </tr>\n",
       "    <tr>\n",
       "      <th>17</th>\n",
       "      <td>32.4</td>\n",
       "      <td>4</td>\n",
       "      <td>78.7</td>\n",
       "      <td>66</td>\n",
       "    </tr>\n",
       "    <tr>\n",
       "      <th>18</th>\n",
       "      <td>30.4</td>\n",
       "      <td>4</td>\n",
       "      <td>75.7</td>\n",
       "      <td>52</td>\n",
       "    </tr>\n",
       "    <tr>\n",
       "      <th>19</th>\n",
       "      <td>33.9</td>\n",
       "      <td>4</td>\n",
       "      <td>71.1</td>\n",
       "      <td>65</td>\n",
       "    </tr>\n",
       "    <tr>\n",
       "      <th>20</th>\n",
       "      <td>21.5</td>\n",
       "      <td>4</td>\n",
       "      <td>120.1</td>\n",
       "      <td>97</td>\n",
       "    </tr>\n",
       "    <tr>\n",
       "      <th>21</th>\n",
       "      <td>15.5</td>\n",
       "      <td>8</td>\n",
       "      <td>318.0</td>\n",
       "      <td>150</td>\n",
       "    </tr>\n",
       "    <tr>\n",
       "      <th>22</th>\n",
       "      <td>15.2</td>\n",
       "      <td>8</td>\n",
       "      <td>304.0</td>\n",
       "      <td>150</td>\n",
       "    </tr>\n",
       "    <tr>\n",
       "      <th>23</th>\n",
       "      <td>13.3</td>\n",
       "      <td>8</td>\n",
       "      <td>350.0</td>\n",
       "      <td>245</td>\n",
       "    </tr>\n",
       "    <tr>\n",
       "      <th>24</th>\n",
       "      <td>19.2</td>\n",
       "      <td>8</td>\n",
       "      <td>400.0</td>\n",
       "      <td>175</td>\n",
       "    </tr>\n",
       "    <tr>\n",
       "      <th>25</th>\n",
       "      <td>27.3</td>\n",
       "      <td>4</td>\n",
       "      <td>79.0</td>\n",
       "      <td>66</td>\n",
       "    </tr>\n",
       "    <tr>\n",
       "      <th>26</th>\n",
       "      <td>26.0</td>\n",
       "      <td>4</td>\n",
       "      <td>120.3</td>\n",
       "      <td>91</td>\n",
       "    </tr>\n",
       "    <tr>\n",
       "      <th>27</th>\n",
       "      <td>30.4</td>\n",
       "      <td>4</td>\n",
       "      <td>95.1</td>\n",
       "      <td>113</td>\n",
       "    </tr>\n",
       "    <tr>\n",
       "      <th>28</th>\n",
       "      <td>15.8</td>\n",
       "      <td>8</td>\n",
       "      <td>351.0</td>\n",
       "      <td>264</td>\n",
       "    </tr>\n",
       "    <tr>\n",
       "      <th>29</th>\n",
       "      <td>19.7</td>\n",
       "      <td>6</td>\n",
       "      <td>145.0</td>\n",
       "      <td>175</td>\n",
       "    </tr>\n",
       "    <tr>\n",
       "      <th>30</th>\n",
       "      <td>15.0</td>\n",
       "      <td>8</td>\n",
       "      <td>301.0</td>\n",
       "      <td>335</td>\n",
       "    </tr>\n",
       "    <tr>\n",
       "      <th>31</th>\n",
       "      <td>21.4</td>\n",
       "      <td>4</td>\n",
       "      <td>121.0</td>\n",
       "      <td>109</td>\n",
       "    </tr>\n",
       "  </tbody>\n",
       "</table>\n",
       "</div>"
      ],
      "text/plain": [
       "     mpg  cyl   disp   hp\n",
       "0   21.0    6  160.0  110\n",
       "1   21.0    6  160.0  110\n",
       "2   22.8    4  108.0   93\n",
       "3   21.4    6  258.0  110\n",
       "4   18.7    8  360.0  175\n",
       "5   18.1    6  225.0  105\n",
       "6   14.3    8  360.0  245\n",
       "7   24.4    4  146.7   62\n",
       "8   22.8    4  140.8   95\n",
       "9   19.2    6  167.6  123\n",
       "10  17.8    6  167.6  123\n",
       "11  16.4    8  275.8  180\n",
       "12  17.3    8  275.8  180\n",
       "13  15.2    8  275.8  180\n",
       "14  10.4    8  472.0  205\n",
       "15  10.4    8  460.0  215\n",
       "16  14.7    8  440.0  230\n",
       "17  32.4    4   78.7   66\n",
       "18  30.4    4   75.7   52\n",
       "19  33.9    4   71.1   65\n",
       "20  21.5    4  120.1   97\n",
       "21  15.5    8  318.0  150\n",
       "22  15.2    8  304.0  150\n",
       "23  13.3    8  350.0  245\n",
       "24  19.2    8  400.0  175\n",
       "25  27.3    4   79.0   66\n",
       "26  26.0    4  120.3   91\n",
       "27  30.4    4   95.1  113\n",
       "28  15.8    8  351.0  264\n",
       "29  19.7    6  145.0  175\n",
       "30  15.0    8  301.0  335\n",
       "31  21.4    4  121.0  109"
      ]
     },
     "execution_count": 40,
     "metadata": {},
     "output_type": "execute_result"
    }
   ],
   "source": [
    "# Reg Linear Multipla ***************************************************************************************************\n",
    "\n",
    "x = mt_cars.iloc[:, 2:5].values\n",
    "y = mt_cars.iloc[:, 1].values\n",
    "mt_cars.iloc[:, 1:5]"
   ]
  },
  {
   "cell_type": "code",
   "execution_count": 41,
   "id": "cd2563cd",
   "metadata": {},
   "outputs": [
    {
     "data": {
      "text/plain": [
       "0.7678877440928638"
      ]
     },
     "execution_count": 41,
     "metadata": {},
     "output_type": "execute_result"
    }
   ],
   "source": [
    "model.fit(x, y)\n",
    "model.score(x, y)"
   ]
  },
  {
   "cell_type": "code",
   "execution_count": 42,
   "id": "0928d551",
   "metadata": {},
   "outputs": [
    {
     "data": {
      "text/plain": [
       "array([13.87804731])"
      ]
     },
     "execution_count": 42,
     "metadata": {},
     "output_type": "execute_result"
    }
   ],
   "source": [
    "model.predict([[8, 351.0, 264]])"
   ]
  },
  {
   "cell_type": "code",
   "execution_count": 43,
   "id": "281b6730",
   "metadata": {},
   "outputs": [
    {
     "data": {
      "text/plain": [
       "array([  8., 351., 264.])"
      ]
     },
     "execution_count": 43,
     "metadata": {},
     "output_type": "execute_result"
    }
   ],
   "source": [
    "x[28]"
   ]
  },
  {
   "cell_type": "code",
   "execution_count": 44,
   "id": "68d1a527",
   "metadata": {},
   "outputs": [
    {
     "data": {
      "text/plain": [
       "array([13.87804731])"
      ]
     },
     "execution_count": 44,
     "metadata": {},
     "output_type": "execute_result"
    }
   ],
   "source": [
    "model.predict(x[28].reshape(1, 3))"
   ]
  },
  {
   "cell_type": "code",
   "execution_count": 45,
   "id": "9e01b160",
   "metadata": {},
   "outputs": [
    {
     "data": {
      "text/html": [
       "<div>\n",
       "<style scoped>\n",
       "    .dataframe tbody tr th:only-of-type {\n",
       "        vertical-align: middle;\n",
       "    }\n",
       "\n",
       "    .dataframe tbody tr th {\n",
       "        vertical-align: top;\n",
       "    }\n",
       "\n",
       "    .dataframe thead th {\n",
       "        text-align: right;\n",
       "    }\n",
       "</style>\n",
       "<table border=\"1\" class=\"dataframe\">\n",
       "  <thead>\n",
       "    <tr style=\"text-align: right;\">\n",
       "      <th></th>\n",
       "      <th>Index</th>\n",
       "      <th>One</th>\n",
       "      <th>Urban_population</th>\n",
       "      <th>Late_births</th>\n",
       "      <th>Wine_consumption</th>\n",
       "      <th>Liquor_consumption</th>\n",
       "      <th>Cirrhosis_death</th>\n",
       "    </tr>\n",
       "  </thead>\n",
       "  <tbody>\n",
       "    <tr>\n",
       "      <th>0</th>\n",
       "      <td>1</td>\n",
       "      <td>1</td>\n",
       "      <td>44</td>\n",
       "      <td>33.2</td>\n",
       "      <td>5</td>\n",
       "      <td>30</td>\n",
       "      <td>41.2</td>\n",
       "    </tr>\n",
       "    <tr>\n",
       "      <th>1</th>\n",
       "      <td>2</td>\n",
       "      <td>1</td>\n",
       "      <td>43</td>\n",
       "      <td>33.8</td>\n",
       "      <td>4</td>\n",
       "      <td>41</td>\n",
       "      <td>31.7</td>\n",
       "    </tr>\n",
       "    <tr>\n",
       "      <th>2</th>\n",
       "      <td>3</td>\n",
       "      <td>1</td>\n",
       "      <td>48</td>\n",
       "      <td>40.6</td>\n",
       "      <td>3</td>\n",
       "      <td>38</td>\n",
       "      <td>39.4</td>\n",
       "    </tr>\n",
       "    <tr>\n",
       "      <th>3</th>\n",
       "      <td>4</td>\n",
       "      <td>1</td>\n",
       "      <td>52</td>\n",
       "      <td>39.2</td>\n",
       "      <td>7</td>\n",
       "      <td>48</td>\n",
       "      <td>57.5</td>\n",
       "    </tr>\n",
       "    <tr>\n",
       "      <th>4</th>\n",
       "      <td>5</td>\n",
       "      <td>1</td>\n",
       "      <td>71</td>\n",
       "      <td>45.5</td>\n",
       "      <td>11</td>\n",
       "      <td>53</td>\n",
       "      <td>74.8</td>\n",
       "    </tr>\n",
       "  </tbody>\n",
       "</table>\n",
       "</div>"
      ],
      "text/plain": [
       "   Index  One  Urban_population  Late_births  Wine_consumption  \\\n",
       "0      1    1                44         33.2                 5   \n",
       "1      2    1                43         33.8                 4   \n",
       "2      3    1                48         40.6                 3   \n",
       "3      4    1                52         39.2                 7   \n",
       "4      5    1                71         45.5                11   \n",
       "\n",
       "   Liquor_consumption  Cirrhosis_death  \n",
       "0                  30             41.2  \n",
       "1                  41             31.7  \n",
       "2                  38             39.4  \n",
       "3                  48             57.5  \n",
       "4                  53             74.8  "
      ]
     },
     "execution_count": 45,
     "metadata": {},
     "output_type": "execute_result"
    }
   ],
   "source": [
    "drink.head()"
   ]
  },
  {
   "cell_type": "code",
   "execution_count": 46,
   "id": "deb9b3df",
   "metadata": {},
   "outputs": [
    {
     "data": {
      "text/plain": [
       "0.7133680411415708"
      ]
     },
     "execution_count": 46,
     "metadata": {},
     "output_type": "execute_result"
    }
   ],
   "source": [
    "x = drink.loc[:, 'Wine_consumption'].values.reshape(-1, 1)\n",
    "y = drink.loc[:, 'Cirrhosis_death'].values\n",
    "model.fit(x, y)\n",
    "model.score(x, y)"
   ]
  },
  {
   "cell_type": "code",
   "execution_count": 47,
   "id": "04330e7c",
   "metadata": {},
   "outputs": [],
   "source": [
    "x = drink.loc[:, ['Wine_consumption', 'Liquor_consumption']].values\n",
    "y = drink.loc[:, 'Cirrhosis_death'].values"
   ]
  },
  {
   "cell_type": "code",
   "execution_count": 48,
   "id": "694a718e",
   "metadata": {},
   "outputs": [
    {
     "data": {
      "text/plain": [
       "0.736085568307117"
      ]
     },
     "execution_count": 48,
     "metadata": {},
     "output_type": "execute_result"
    }
   ],
   "source": [
    "model.fit(x, y)\n",
    "model.score(x, y)"
   ]
  },
  {
   "cell_type": "code",
   "execution_count": 49,
   "id": "bed70980",
   "metadata": {},
   "outputs": [
    {
     "data": {
      "text/plain": [
       "[array([ 5, 30]), array([41.77226109])]"
      ]
     },
     "execution_count": 49,
     "metadata": {},
     "output_type": "execute_result"
    }
   ],
   "source": [
    "[x[0],\n",
    "model.predict(x[0].reshape(1, 2))]"
   ]
  },
  {
   "cell_type": "code",
   "execution_count": 50,
   "id": "e13fda12",
   "metadata": {},
   "outputs": [
    {
     "data": {
      "text/plain": [
       "41.2"
      ]
     },
     "execution_count": 50,
     "metadata": {},
     "output_type": "execute_result"
    }
   ],
   "source": [
    "y[0]"
   ]
  },
  {
   "cell_type": "code",
   "execution_count": 51,
   "id": "bbb1c83b",
   "metadata": {},
   "outputs": [
    {
     "data": {
      "text/plain": [
       "array([2.39335773, 0.21659178])"
      ]
     },
     "execution_count": 51,
     "metadata": {},
     "output_type": "execute_result"
    }
   ],
   "source": [
    "model.coef_"
   ]
  },
  {
   "cell_type": "code",
   "execution_count": 52,
   "id": "f9e2d521",
   "metadata": {},
   "outputs": [
    {
     "data": {
      "text/plain": [
       "array([-36.72851083,   5.05047117])"
      ]
     },
     "execution_count": 52,
     "metadata": {},
     "output_type": "execute_result"
    },
    {
     "data": {
      "image/png": "[encoded data removed]",
      "text/plain": [
       "<Figure size 640x480 with 1 Axes>"
      ]
     },
     "metadata": {},
     "output_type": "display_data"
    }
   ],
   "source": [
    "def h(X, theta):\n",
    "    return np.dot(X, theta.T)\n",
    "\n",
    "\n",
    "data = pd.read_csv('data/trees.csv')\n",
    "data.insert(1, 'bias', np.ones(data.shape[0]))\n",
    "# X = data.loc[:, ['bias', 'Girth', 'Height']].values\n",
    "X = data.loc[:, ['bias', 'Girth']].values\n",
    "y = data.loc[:, 'Volume']\n",
    "\n",
    "theta     = np.random.rand(X.shape[1])\n",
    "theta_aux = np.zeros(X.shape[1])\n",
    "\n",
    "alpha = 0.01\n",
    "m     = X.shape[0]\n",
    "n     = X.shape[1]\n",
    "\n",
    "for _ in range(10000):\n",
    "    for j in range(n):\n",
    "        acc = 0\n",
    "        for i in range(m):\n",
    "            acc += (h(X[i, :], theta) - y[i]) * X[i, j]\n",
    "        theta_aux[j] = theta[j] - alpha/m * acc\n",
    "    theta = theta_aux\n",
    "\n",
    "plt.scatter(X[:, 1], y)\n",
    "\n",
    "min_x = np.min(X[:, 1])\n",
    "max_x = np.max(X[:, 1])\n",
    "\n",
    "plt.plot([min_x, max_x], [min_x * theta[1] + theta[0], max_x * theta[1] + theta[0]], c='red')\n",
    "\n",
    "theta"
   ]
  },
  {
   "cell_type": "code",
   "execution_count": 53,
   "id": "c3c19769",
   "metadata": {},
   "outputs": [
    {
     "data": {
      "text/plain": [
       "array([-36.72851083,   5.05047117])"
      ]
     },
     "execution_count": 53,
     "metadata": {},
     "output_type": "execute_result"
    },
    {
     "data": {
      "image/png": "[encoded data removed]",
      "text/plain": [
       "<Figure size 640x480 with 1 Axes>"
      ]
     },
     "metadata": {},
     "output_type": "display_data"
    }
   ],
   "source": [
    "X = trees.loc[:, ['Girth']].values\n",
    "y = trees.loc[:, 'Volume']\n",
    "X = X.reshape(-1, 1)\n",
    "\n",
    "model.fit(X, y)\n",
    "[model.intercept_, model.coef_]\n",
    "\n",
    "plt.scatter(X, y)\n",
    "\n",
    "min_x = np.min(X)\n",
    "max_x = np.max(X)\n",
    "\n",
    "plt.plot([min_x, max_x], [min_x * model.coef_ + model.intercept_, max_x * model.coef_ + model.intercept_], c='red')\n",
    "\n",
    "theta"
   ]
  },
  {
   "cell_type": "code",
   "execution_count": 54,
   "id": "1b23fda9",
   "metadata": {},
   "outputs": [
    {
     "data": {
      "text/plain": [
       "[-57.987658918380845, array([4.7081605 , 0.33925123])]"
      ]
     },
     "execution_count": 54,
     "metadata": {},
     "output_type": "execute_result"
    }
   ],
   "source": [
    "X = trees.loc[:, ['Girth', 'Height']].values\n",
    "y = trees.loc[:, 'Volume']\n",
    "\n",
    "model.fit(X, y)\n",
    "[model.intercept_, model.coef_]"
   ]
  },
  {
   "cell_type": "code",
   "execution_count": 55,
   "id": "2e0b87ed",
   "metadata": {},
   "outputs": [],
   "source": [
    "import statsmodels.formula.api as sm"
   ]
  },
  {
   "cell_type": "code",
   "execution_count": 56,
   "id": "f5527a89",
   "metadata": {},
   "outputs": [
    {
     "data": {
      "text/html": [
       "<div>\n",
       "<style scoped>\n",
       "    .dataframe tbody tr th:only-of-type {\n",
       "        vertical-align: middle;\n",
       "    }\n",
       "\n",
       "    .dataframe tbody tr th {\n",
       "        vertical-align: top;\n",
       "    }\n",
       "\n",
       "    .dataframe thead th {\n",
       "        text-align: right;\n",
       "    }\n",
       "</style>\n",
       "<table border=\"1\" class=\"dataframe\">\n",
       "  <thead>\n",
       "    <tr style=\"text-align: right;\">\n",
       "      <th></th>\n",
       "      <th>Girth</th>\n",
       "      <th>Height</th>\n",
       "      <th>Volume</th>\n",
       "    </tr>\n",
       "  </thead>\n",
       "  <tbody>\n",
       "    <tr>\n",
       "      <th>0</th>\n",
       "      <td>8.3</td>\n",
       "      <td>70</td>\n",
       "      <td>10.3</td>\n",
       "    </tr>\n",
       "    <tr>\n",
       "      <th>1</th>\n",
       "      <td>8.6</td>\n",
       "      <td>65</td>\n",
       "      <td>10.3</td>\n",
       "    </tr>\n",
       "    <tr>\n",
       "      <th>2</th>\n",
       "      <td>8.8</td>\n",
       "      <td>63</td>\n",
       "      <td>10.2</td>\n",
       "    </tr>\n",
       "    <tr>\n",
       "      <th>3</th>\n",
       "      <td>10.5</td>\n",
       "      <td>72</td>\n",
       "      <td>16.4</td>\n",
       "    </tr>\n",
       "    <tr>\n",
       "      <th>4</th>\n",
       "      <td>10.7</td>\n",
       "      <td>81</td>\n",
       "      <td>18.8</td>\n",
       "    </tr>\n",
       "  </tbody>\n",
       "</table>\n",
       "</div>"
      ],
      "text/plain": [
       "   Girth  Height  Volume\n",
       "0    8.3      70    10.3\n",
       "1    8.6      65    10.3\n",
       "2    8.8      63    10.2\n",
       "3   10.5      72    16.4\n",
       "4   10.7      81    18.8"
      ]
     },
     "execution_count": 56,
     "metadata": {},
     "output_type": "execute_result"
    }
   ],
   "source": [
    "trees.head()"
   ]
  },
  {
   "cell_type": "code",
   "execution_count": 57,
   "id": "84b22534",
   "metadata": {},
   "outputs": [
    {
     "data": {
      "text/html": [
       "<table class=\"simpletable\">\n",
       "<caption>OLS Regression Results</caption>\n",
       "<tr>\n",
       "  <th>Dep. Variable:</th>         <td>Volume</td>      <th>  R-squared:         </th> <td>   0.935</td>\n",
       "</tr>\n",
       "<tr>\n",
       "  <th>Model:</th>                   <td>OLS</td>       <th>  Adj. R-squared:    </th> <td>   0.933</td>\n",
       "</tr>\n",
       "<tr>\n",
       "  <th>Method:</th>             <td>Least Squares</td>  <th>  F-statistic:       </th> <td>   419.4</td>\n",
       "</tr>\n",
       "<tr>\n",
       "  <th>Date:</th>             <td>Fri, 12 Apr 2024</td> <th>  Prob (F-statistic):</th> <td>8.64e-19</td>\n",
       "</tr>\n",
       "<tr>\n",
       "  <th>Time:</th>                 <td>18:06:17</td>     <th>  Log-Likelihood:    </th> <td> -87.822</td>\n",
       "</tr>\n",
       "<tr>\n",
       "  <th>No. Observations:</th>      <td>    31</td>      <th>  AIC:               </th> <td>   179.6</td>\n",
       "</tr>\n",
       "<tr>\n",
       "  <th>Df Residuals:</th>          <td>    29</td>      <th>  BIC:               </th> <td>   182.5</td>\n",
       "</tr>\n",
       "<tr>\n",
       "  <th>Df Model:</th>              <td>     1</td>      <th>                     </th>     <td> </td>   \n",
       "</tr>\n",
       "<tr>\n",
       "  <th>Covariance Type:</th>      <td>nonrobust</td>    <th>                     </th>     <td> </td>   \n",
       "</tr>\n",
       "</table>\n",
       "<table class=\"simpletable\">\n",
       "<tr>\n",
       "      <td></td>         <th>coef</th>     <th>std err</th>      <th>t</th>      <th>P>|t|</th>  <th>[0.025</th>    <th>0.975]</th>  \n",
       "</tr>\n",
       "<tr>\n",
       "  <th>Intercept</th> <td>  -36.9435</td> <td>    3.365</td> <td>  -10.978</td> <td> 0.000</td> <td>  -43.826</td> <td>  -30.061</td>\n",
       "</tr>\n",
       "<tr>\n",
       "  <th>Girth</th>     <td>    5.0659</td> <td>    0.247</td> <td>   20.478</td> <td> 0.000</td> <td>    4.560</td> <td>    5.572</td>\n",
       "</tr>\n",
       "</table>\n",
       "<table class=\"simpletable\">\n",
       "<tr>\n",
       "  <th>Omnibus:</th>       <td> 0.169</td> <th>  Durbin-Watson:     </th> <td>   1.437</td>\n",
       "</tr>\n",
       "<tr>\n",
       "  <th>Prob(Omnibus):</th> <td> 0.919</td> <th>  Jarque-Bera (JB):  </th> <td>   0.382</td>\n",
       "</tr>\n",
       "<tr>\n",
       "  <th>Skew:</th>          <td> 0.028</td> <th>  Prob(JB):          </th> <td>   0.826</td>\n",
       "</tr>\n",
       "<tr>\n",
       "  <th>Kurtosis:</th>      <td> 2.459</td> <th>  Cond. No.          </th> <td>    60.3</td>\n",
       "</tr>\n",
       "</table><br/><br/>Notes:<br/>[1] Standard Errors assume that the covariance matrix of the errors is correctly specified."
      ],
      "text/latex": [
       "\\begin{center}\n",
       "\\begin{tabular}{lclc}\n",
       "\\toprule\n",
       "\\textbf{Dep. Variable:}    &      Volume      & \\textbf{  R-squared:         } &     0.935   \\\\\n",
       "\\textbf{Model:}            &       OLS        & \\textbf{  Adj. R-squared:    } &     0.933   \\\\\n",
       "\\textbf{Method:}           &  Least Squares   & \\textbf{  F-statistic:       } &     419.4   \\\\\n",
       "\\textbf{Date:}             & Fri, 12 Apr 2024 & \\textbf{  Prob (F-statistic):} &  8.64e-19   \\\\\n",
       "\\textbf{Time:}             &     18:06:17     & \\textbf{  Log-Likelihood:    } &   -87.822   \\\\\n",
       "\\textbf{No. Observations:} &          31      & \\textbf{  AIC:               } &     179.6   \\\\\n",
       "\\textbf{Df Residuals:}     &          29      & \\textbf{  BIC:               } &     182.5   \\\\\n",
       "\\textbf{Df Model:}         &           1      & \\textbf{                     } &             \\\\\n",
       "\\textbf{Covariance Type:}  &    nonrobust     & \\textbf{                     } &             \\\\\n",
       "\\bottomrule\n",
       "\\end{tabular}\n",
       "\\begin{tabular}{lcccccc}\n",
       "                   & \\textbf{coef} & \\textbf{std err} & \\textbf{t} & \\textbf{P$> |$t$|$} & \\textbf{[0.025} & \\textbf{0.975]}  \\\\\n",
       "\\midrule\n",
       "\\textbf{Intercept} &     -36.9435  &        3.365     &   -10.978  &         0.000        &      -43.826    &      -30.061     \\\\\n",
       "\\textbf{Girth}     &       5.0659  &        0.247     &    20.478  &         0.000        &        4.560    &        5.572     \\\\\n",
       "\\bottomrule\n",
       "\\end{tabular}\n",
       "\\begin{tabular}{lclc}\n",
       "\\textbf{Omnibus:}       &  0.169 & \\textbf{  Durbin-Watson:     } &    1.437  \\\\\n",
       "\\textbf{Prob(Omnibus):} &  0.919 & \\textbf{  Jarque-Bera (JB):  } &    0.382  \\\\\n",
       "\\textbf{Skew:}          &  0.028 & \\textbf{  Prob(JB):          } &    0.826  \\\\\n",
       "\\textbf{Kurtosis:}      &  2.459 & \\textbf{  Cond. No.          } &     60.3  \\\\\n",
       "\\bottomrule\n",
       "\\end{tabular}\n",
       "%\\caption{OLS Regression Results}\n",
       "\\end{center}\n",
       "\n",
       "Notes: \\newline\n",
       " [1] Standard Errors assume that the covariance matrix of the errors is correctly specified."
      ],
      "text/plain": [
       "<class 'statsmodels.iolib.summary.Summary'>\n",
       "\"\"\"\n",
       "                            OLS Regression Results                            \n",
       "==============================================================================\n",
       "Dep. Variable:                 Volume   R-squared:                       0.935\n",
       "Model:                            OLS   Adj. R-squared:                  0.933\n",
       "Method:                 Least Squares   F-statistic:                     419.4\n",
       "Date:                Fri, 12 Apr 2024   Prob (F-statistic):           8.64e-19\n",
       "Time:                        18:06:17   Log-Likelihood:                -87.822\n",
       "No. Observations:                  31   AIC:                             179.6\n",
       "Df Residuals:                      29   BIC:                             182.5\n",
       "Df Model:                           1                                         \n",
       "Covariance Type:            nonrobust                                         \n",
       "==============================================================================\n",
       "                 coef    std err          t      P>|t|      [0.025      0.975]\n",
       "------------------------------------------------------------------------------\n",
       "Intercept    -36.9435      3.365    -10.978      0.000     -43.826     -30.061\n",
       "Girth          5.0659      0.247     20.478      0.000       4.560       5.572\n",
       "==============================================================================\n",
       "Omnibus:                        0.169   Durbin-Watson:                   1.437\n",
       "Prob(Omnibus):                  0.919   Jarque-Bera (JB):                0.382\n",
       "Skew:                           0.028   Prob(JB):                        0.826\n",
       "Kurtosis:                       2.459   Cond. No.                         60.3\n",
       "==============================================================================\n",
       "\n",
       "Notes:\n",
       "[1] Standard Errors assume that the covariance matrix of the errors is correctly specified.\n",
       "\"\"\""
      ]
     },
     "execution_count": 57,
     "metadata": {},
     "output_type": "execute_result"
    }
   ],
   "source": [
    "modelo_ajustado = sm.ols(formula= 'Volume ~ Girth', data=trees)\n",
    "modelo_treinado = modelo_ajustado.fit()\n",
    "modelo_treinado.summary()"
   ]
  },
  {
   "cell_type": "code",
   "execution_count": 58,
   "id": "e2071b8c",
   "metadata": {},
   "outputs": [
    {
     "data": {
      "text/plain": [
       "[0    5.103149\n",
       " dtype: float64,\n",
       " 0    5.103149\n",
       " dtype: float64]"
      ]
     },
     "execution_count": 58,
     "metadata": {},
     "output_type": "execute_result"
    }
   ],
   "source": [
    "test =  pd.DataFrame([8.3], columns=['Girth'])\n",
    "[modelo_treinado.predict(test),\n",
    "modelo_treinado.predict(trees.loc[:0, 'Girth'])]"
   ]
  },
  {
   "cell_type": "code",
   "execution_count": 59,
   "id": "c69634fb",
   "metadata": {},
   "outputs": [
    {
     "data": {
      "text/html": [
       "<table class=\"simpletable\">\n",
       "<caption>OLS Regression Results</caption>\n",
       "<tr>\n",
       "  <th>Dep. Variable:</th>         <td>Volume</td>      <th>  R-squared:         </th> <td>   0.948</td>\n",
       "</tr>\n",
       "<tr>\n",
       "  <th>Model:</th>                   <td>OLS</td>       <th>  Adj. R-squared:    </th> <td>   0.944</td>\n",
       "</tr>\n",
       "<tr>\n",
       "  <th>Method:</th>             <td>Least Squares</td>  <th>  F-statistic:       </th> <td>   255.0</td>\n",
       "</tr>\n",
       "<tr>\n",
       "  <th>Date:</th>             <td>Fri, 12 Apr 2024</td> <th>  Prob (F-statistic):</th> <td>1.07e-18</td>\n",
       "</tr>\n",
       "<tr>\n",
       "  <th>Time:</th>                 <td>18:06:18</td>     <th>  Log-Likelihood:    </th> <td> -84.455</td>\n",
       "</tr>\n",
       "<tr>\n",
       "  <th>No. Observations:</th>      <td>    31</td>      <th>  AIC:               </th> <td>   174.9</td>\n",
       "</tr>\n",
       "<tr>\n",
       "  <th>Df Residuals:</th>          <td>    28</td>      <th>  BIC:               </th> <td>   179.2</td>\n",
       "</tr>\n",
       "<tr>\n",
       "  <th>Df Model:</th>              <td>     2</td>      <th>                     </th>     <td> </td>   \n",
       "</tr>\n",
       "<tr>\n",
       "  <th>Covariance Type:</th>      <td>nonrobust</td>    <th>                     </th>     <td> </td>   \n",
       "</tr>\n",
       "</table>\n",
       "<table class=\"simpletable\">\n",
       "<tr>\n",
       "      <td></td>         <th>coef</th>     <th>std err</th>      <th>t</th>      <th>P>|t|</th>  <th>[0.025</th>    <th>0.975]</th>  \n",
       "</tr>\n",
       "<tr>\n",
       "  <th>Intercept</th> <td>  -57.9877</td> <td>    8.638</td> <td>   -6.713</td> <td> 0.000</td> <td>  -75.682</td> <td>  -40.293</td>\n",
       "</tr>\n",
       "<tr>\n",
       "  <th>Girth</th>     <td>    4.7082</td> <td>    0.264</td> <td>   17.816</td> <td> 0.000</td> <td>    4.167</td> <td>    5.249</td>\n",
       "</tr>\n",
       "<tr>\n",
       "  <th>Height</th>    <td>    0.3393</td> <td>    0.130</td> <td>    2.607</td> <td> 0.014</td> <td>    0.073</td> <td>    0.606</td>\n",
       "</tr>\n",
       "</table>\n",
       "<table class=\"simpletable\">\n",
       "<tr>\n",
       "  <th>Omnibus:</th>       <td> 0.923</td> <th>  Durbin-Watson:     </th> <td>   1.266</td>\n",
       "</tr>\n",
       "<tr>\n",
       "  <th>Prob(Omnibus):</th> <td> 0.630</td> <th>  Jarque-Bera (JB):  </th> <td>   0.950</td>\n",
       "</tr>\n",
       "<tr>\n",
       "  <th>Skew:</th>          <td> 0.310</td> <th>  Prob(JB):          </th> <td>   0.622</td>\n",
       "</tr>\n",
       "<tr>\n",
       "  <th>Kurtosis:</th>      <td> 2.408</td> <th>  Cond. No.          </th> <td>    959.</td>\n",
       "</tr>\n",
       "</table><br/><br/>Notes:<br/>[1] Standard Errors assume that the covariance matrix of the errors is correctly specified."
      ],
      "text/latex": [
       "\\begin{center}\n",
       "\\begin{tabular}{lclc}\n",
       "\\toprule\n",
       "\\textbf{Dep. Variable:}    &      Volume      & \\textbf{  R-squared:         } &     0.948   \\\\\n",
       "\\textbf{Model:}            &       OLS        & \\textbf{  Adj. R-squared:    } &     0.944   \\\\\n",
       "\\textbf{Method:}           &  Least Squares   & \\textbf{  F-statistic:       } &     255.0   \\\\\n",
       "\\textbf{Date:}             & Fri, 12 Apr 2024 & \\textbf{  Prob (F-statistic):} &  1.07e-18   \\\\\n",
       "\\textbf{Time:}             &     18:06:18     & \\textbf{  Log-Likelihood:    } &   -84.455   \\\\\n",
       "\\textbf{No. Observations:} &          31      & \\textbf{  AIC:               } &     174.9   \\\\\n",
       "\\textbf{Df Residuals:}     &          28      & \\textbf{  BIC:               } &     179.2   \\\\\n",
       "\\textbf{Df Model:}         &           2      & \\textbf{                     } &             \\\\\n",
       "\\textbf{Covariance Type:}  &    nonrobust     & \\textbf{                     } &             \\\\\n",
       "\\bottomrule\n",
       "\\end{tabular}\n",
       "\\begin{tabular}{lcccccc}\n",
       "                   & \\textbf{coef} & \\textbf{std err} & \\textbf{t} & \\textbf{P$> |$t$|$} & \\textbf{[0.025} & \\textbf{0.975]}  \\\\\n",
       "\\midrule\n",
       "\\textbf{Intercept} &     -57.9877  &        8.638     &    -6.713  &         0.000        &      -75.682    &      -40.293     \\\\\n",
       "\\textbf{Girth}     &       4.7082  &        0.264     &    17.816  &         0.000        &        4.167    &        5.249     \\\\\n",
       "\\textbf{Height}    &       0.3393  &        0.130     &     2.607  &         0.014        &        0.073    &        0.606     \\\\\n",
       "\\bottomrule\n",
       "\\end{tabular}\n",
       "\\begin{tabular}{lclc}\n",
       "\\textbf{Omnibus:}       &  0.923 & \\textbf{  Durbin-Watson:     } &    1.266  \\\\\n",
       "\\textbf{Prob(Omnibus):} &  0.630 & \\textbf{  Jarque-Bera (JB):  } &    0.950  \\\\\n",
       "\\textbf{Skew:}          &  0.310 & \\textbf{  Prob(JB):          } &    0.622  \\\\\n",
       "\\textbf{Kurtosis:}      &  2.408 & \\textbf{  Cond. No.          } &     959.  \\\\\n",
       "\\bottomrule\n",
       "\\end{tabular}\n",
       "%\\caption{OLS Regression Results}\n",
       "\\end{center}\n",
       "\n",
       "Notes: \\newline\n",
       " [1] Standard Errors assume that the covariance matrix of the errors is correctly specified."
      ],
      "text/plain": [
       "<class 'statsmodels.iolib.summary.Summary'>\n",
       "\"\"\"\n",
       "                            OLS Regression Results                            \n",
       "==============================================================================\n",
       "Dep. Variable:                 Volume   R-squared:                       0.948\n",
       "Model:                            OLS   Adj. R-squared:                  0.944\n",
       "Method:                 Least Squares   F-statistic:                     255.0\n",
       "Date:                Fri, 12 Apr 2024   Prob (F-statistic):           1.07e-18\n",
       "Time:                        18:06:18   Log-Likelihood:                -84.455\n",
       "No. Observations:                  31   AIC:                             174.9\n",
       "Df Residuals:                      28   BIC:                             179.2\n",
       "Df Model:                           2                                         \n",
       "Covariance Type:            nonrobust                                         \n",
       "==============================================================================\n",
       "                 coef    std err          t      P>|t|      [0.025      0.975]\n",
       "------------------------------------------------------------------------------\n",
       "Intercept    -57.9877      8.638     -6.713      0.000     -75.682     -40.293\n",
       "Girth          4.7082      0.264     17.816      0.000       4.167       5.249\n",
       "Height         0.3393      0.130      2.607      0.014       0.073       0.606\n",
       "==============================================================================\n",
       "Omnibus:                        0.923   Durbin-Watson:                   1.266\n",
       "Prob(Omnibus):                  0.630   Jarque-Bera (JB):                0.950\n",
       "Skew:                           0.310   Prob(JB):                        0.622\n",
       "Kurtosis:                       2.408   Cond. No.                         959.\n",
       "==============================================================================\n",
       "\n",
       "Notes:\n",
       "[1] Standard Errors assume that the covariance matrix of the errors is correctly specified.\n",
       "\"\"\""
      ]
     },
     "execution_count": 59,
     "metadata": {},
     "output_type": "execute_result"
    }
   ],
   "source": [
    "modelo_ajustado_mult = sm.ols(formula= 'Volume ~ Girth + Height', data=trees)\n",
    "modelo_treinado_mult = modelo_ajustado_mult.fit()\n",
    "modelo_treinado_mult.summary()"
   ]
  }
 ],
 "metadata": {
  "kernelspec": {
   "display_name": "Python 3 (ipykernel)",
   "language": "python",
   "name": "python3"
  },
  "language_info": {
   "codemirror_mode": {
    "name": "ipython",
    "version": 3
   },
   "file_extension": ".py",
   "mimetype": "text/x-python",
   "name": "python",
   "nbconvert_exporter": "python",
   "pygments_lexer": "ipython3",
   "version": "3.11.5"
  }
 },
 "nbformat": 4,
 "nbformat_minor": 5
}
