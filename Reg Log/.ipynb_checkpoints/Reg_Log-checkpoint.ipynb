{
 "cells": [
  {
   "cell_type": "code",
   "execution_count": 418,
   "id": "ff9d0765",
   "metadata": {},
   "outputs": [],
   "source": [
    "import numpy as np\n",
    "import pandas as pd\n",
    "import matplotlib.pyplot as plt\n",
    "\n",
    "\n",
    "def h(X, theta):\n",
    "    return 1/(1+ np.e ** (-np.dot(X, theta.T)))\n",
    "\n",
    "\n",
    "eleicao = pd.read_csv('data/Eleicao.csv', sep=';')\n",
    "eleicao.insert(1, 'bias', np.ones(eleicao.shape[0]))"
   ]
  },
  {
   "cell_type": "code",
   "execution_count": 428,
   "id": "5afe1590",
   "metadata": {},
   "outputs": [],
   "source": [
    "X = eleicao.loc[:, ['bias', 'DESPESAS']].values\n",
    "X[:, 1] = X[:, 1]/np.max(X[:, 1])\n",
    "y = eleicao.loc[:, 'SITUACAO']\n",
    "\n",
    "theta     = np.random.rand(X.shape[1])\n",
    "theta_aux = np.random.rand(X.shape[1])\n",
    "\n",
    "ALPHA = 0.1\n",
    "m     = X.shape[0]\n",
    "n     = X.shape[1]"
   ]
  },
  {
   "cell_type": "code",
   "execution_count": 430,
   "id": "31789772",
   "metadata": {},
   "outputs": [
    {
     "name": "stdout",
     "output_type": "stream",
     "text": [
      "[-4.38153659 15.58126904]\n"
     ]
    },
    {
     "data": {
      "image/png": "[encoded data removed]",
      "text/plain": [
       "<Figure size 640x480 with 1 Axes>"
      ]
     },
     "metadata": {},
     "output_type": "display_data"
    }
   ],
   "source": [
    "for _ in range(10000):\n",
    "    for j in range(n):\n",
    "        acc = 0\n",
    "        for i in range(m):\n",
    "            acc += (h(X[i, :], theta) - y[i]) * X[i, j]\n",
    "        theta_aux[j] = theta[j] - ALPHA/m * acc\n",
    "    theta = theta_aux\n",
    "\n",
    "plt.scatter(X[:, 1], y)\n",
    "# predict_y = [h(X[i, :], theta) for i in range(m)]\n",
    "predict_y = [0 if h(X[i, :], theta) < 0.5 else 1 for i in range(m)]\n",
    "plt.scatter(\n",
    "    X[:, 1], predict_y,\n",
    "    c='red',\n",
    "    marker='*'\n",
    ")\n",
    "\n",
    "print(theta)"
   ]
  },
  {
   "cell_type": "code",
   "execution_count": 421,
   "id": "658105e1",
   "metadata": {},
   "outputs": [],
   "source": [
    "Xsk = X[:, 1]"
   ]
  },
  {
   "cell_type": "code",
   "execution_count": 422,
   "id": "f7254a86",
   "metadata": {},
   "outputs": [],
   "source": [
    "Xsk = Xsk[:, np.newaxis]"
   ]
  },
  {
   "cell_type": "code",
   "execution_count": 423,
   "id": "9e17dbb0",
   "metadata": {},
   "outputs": [
    {
     "data": {
      "text/html": [
       "<style>#sk-container-id-2 {color: black;}#sk-container-id-2 pre{padding: 0;}#sk-container-id-2 div.sk-toggleable {background-color: white;}#sk-container-id-2 label.sk-toggleable__label {cursor: pointer;display: block;width: 100%;margin-bottom: 0;padding: 0.3em;box-sizing: border-box;text-align: center;}#sk-container-id-2 label.sk-toggleable__label-arrow:before {content: \"▸\";float: left;margin-right: 0.25em;color: #696969;}#sk-container-id-2 label.sk-toggleable__label-arrow:hover:before {color: black;}#sk-container-id-2 div.sk-estimator:hover label.sk-toggleable__label-arrow:before {color: black;}#sk-container-id-2 div.sk-toggleable__content {max-height: 0;max-width: 0;overflow: hidden;text-align: left;background-color: #f0f8ff;}#sk-container-id-2 div.sk-toggleable__content pre {margin: 0.2em;color: black;border-radius: 0.25em;background-color: #f0f8ff;}#sk-container-id-2 input.sk-toggleable__control:checked~div.sk-toggleable__content {max-height: 200px;max-width: 100%;overflow: auto;}#sk-container-id-2 input.sk-toggleable__control:checked~label.sk-toggleable__label-arrow:before {content: \"▾\";}#sk-container-id-2 div.sk-estimator input.sk-toggleable__control:checked~label.sk-toggleable__label {background-color: #d4ebff;}#sk-container-id-2 div.sk-label input.sk-toggleable__control:checked~label.sk-toggleable__label {background-color: #d4ebff;}#sk-container-id-2 input.sk-hidden--visually {border: 0;clip: rect(1px 1px 1px 1px);clip: rect(1px, 1px, 1px, 1px);height: 1px;margin: -1px;overflow: hidden;padding: 0;position: absolute;width: 1px;}#sk-container-id-2 div.sk-estimator {font-family: monospace;background-color: #f0f8ff;border: 1px dotted black;border-radius: 0.25em;box-sizing: border-box;margin-bottom: 0.5em;}#sk-container-id-2 div.sk-estimator:hover {background-color: #d4ebff;}#sk-container-id-2 div.sk-parallel-item::after {content: \"\";width: 100%;border-bottom: 1px solid gray;flex-grow: 1;}#sk-container-id-2 div.sk-label:hover label.sk-toggleable__label {background-color: #d4ebff;}#sk-container-id-2 div.sk-serial::before {content: \"\";position: absolute;border-left: 1px solid gray;box-sizing: border-box;top: 0;bottom: 0;left: 50%;z-index: 0;}#sk-container-id-2 div.sk-serial {display: flex;flex-direction: column;align-items: center;background-color: white;padding-right: 0.2em;padding-left: 0.2em;position: relative;}#sk-container-id-2 div.sk-item {position: relative;z-index: 1;}#sk-container-id-2 div.sk-parallel {display: flex;align-items: stretch;justify-content: center;background-color: white;position: relative;}#sk-container-id-2 div.sk-item::before, #sk-container-id-2 div.sk-parallel-item::before {content: \"\";position: absolute;border-left: 1px solid gray;box-sizing: border-box;top: 0;bottom: 0;left: 50%;z-index: -1;}#sk-container-id-2 div.sk-parallel-item {display: flex;flex-direction: column;z-index: 1;position: relative;background-color: white;}#sk-container-id-2 div.sk-parallel-item:first-child::after {align-self: flex-end;width: 50%;}#sk-container-id-2 div.sk-parallel-item:last-child::after {align-self: flex-start;width: 50%;}#sk-container-id-2 div.sk-parallel-item:only-child::after {width: 0;}#sk-container-id-2 div.sk-dashed-wrapped {border: 1px dashed gray;margin: 0 0.4em 0.5em 0.4em;box-sizing: border-box;padding-bottom: 0.4em;background-color: white;}#sk-container-id-2 div.sk-label label {font-family: monospace;font-weight: bold;display: inline-block;line-height: 1.2em;}#sk-container-id-2 div.sk-label-container {text-align: center;}#sk-container-id-2 div.sk-container {/* jupyter's `normalize.less` sets `[hidden] { display: none; }` but bootstrap.min.css set `[hidden] { display: none !important; }` so we also need the `!important` here to be able to override the default hidden behavior on the sphinx rendered scikit-learn.org. See: https://github.com/scikit-learn/scikit-learn/issues/21755 */display: inline-block !important;position: relative;}#sk-container-id-2 div.sk-text-repr-fallback {display: none;}</style><div id=\"sk-container-id-2\" class=\"sk-top-container\"><div class=\"sk-text-repr-fallback\"><pre>LogisticRegression()</pre><b>In a Jupyter environment, please rerun this cell to show the HTML representation or trust the notebook. <br />On GitHub, the HTML representation is unable to render, please try loading this page with nbviewer.org.</b></div><div class=\"sk-container\" hidden><div class=\"sk-item\"><div class=\"sk-estimator sk-toggleable\"><input class=\"sk-toggleable__control sk-hidden--visually\" id=\"sk-estimator-id-2\" type=\"checkbox\" checked><label for=\"sk-estimator-id-2\" class=\"sk-toggleable__label sk-toggleable__label-arrow\">LogisticRegression</label><div class=\"sk-toggleable__content\"><pre>LogisticRegression()</pre></div></div></div></div></div>"
      ],
      "text/plain": [
       "LogisticRegression()"
      ]
     },
     "execution_count": 423,
     "metadata": {},
     "output_type": "execute_result"
    }
   ],
   "source": [
    "modelo = LogisticRegression()\n",
    "modelo.fit(Xsk, y)"
   ]
  },
  {
   "cell_type": "code",
   "execution_count": 424,
   "id": "7bf8ae2e",
   "metadata": {},
   "outputs": [],
   "source": [
    "predict_y = modelo.predict(Xsk)"
   ]
  },
  {
   "cell_type": "code",
   "execution_count": 431,
   "id": "47b2c7ed",
   "metadata": {},
   "outputs": [
    {
     "data": {
      "text/plain": [
       "<matplotlib.collections.PathCollection at 0x7fe9e8174910>"
      ]
     },
     "execution_count": 431,
     "metadata": {},
     "output_type": "execute_result"
    },
    {
     "data": {
      "image/png": "[encoded data removed]",
      "text/plain": [
       "<Figure size 640x480 with 1 Axes>"
      ]
     },
     "metadata": {},
     "output_type": "display_data"
    }
   ],
   "source": [
    "plt.scatter(X[:, 1], y)\n",
    "plt.scatter(\n",
    "    X[:, 1], predict_y,\n",
    "    c='red',\n",
    "    marker='*'\n",
    ")"
   ]
  },
  {
   "cell_type": "code",
   "execution_count": 538,
   "id": "567784f2",
   "metadata": {},
   "outputs": [],
   "source": [
    "#--------------------------------------------------------------------------------------------------------\n",
    "# https://sig.tse.jus.br/ords/dwapr/r/seai/sig-prestacao-contas/cargo?session=113525032287939\n",
    "eleicao22 = pd.read_csv('data/lista_prestadores_2022_uf_rs.csv')"
   ]
  },
  {
   "cell_type": "code",
   "execution_count": 539,
   "id": "38ec5ec9",
   "metadata": {},
   "outputs": [
    {
     "data": {
      "text/html": [
       "<div>\n",
       "<style scoped>\n",
       "    .dataframe tbody tr th:only-of-type {\n",
       "        vertical-align: middle;\n",
       "    }\n",
       "\n",
       "    .dataframe tbody tr th {\n",
       "        vertical-align: top;\n",
       "    }\n",
       "\n",
       "    .dataframe thead th {\n",
       "        text-align: right;\n",
       "    }\n",
       "</style>\n",
       "<table border=\"1\" class=\"dataframe\">\n",
       "  <thead>\n",
       "    <tr style=\"text-align: right;\">\n",
       "      <th></th>\n",
       "      <th>aa_eleicao</th>\n",
       "      <th>sq_eleicao_divulga</th>\n",
       "      <th>sg_uf</th>\n",
       "      <th>sg_ue</th>\n",
       "      <th>tp_prestador</th>\n",
       "      <th>cd_esfera_partidaria</th>\n",
       "      <th>ds_esfera_partidaria</th>\n",
       "      <th>nr_partido</th>\n",
       "      <th>sg_partido</th>\n",
       "      <th>sq_candidato</th>\n",
       "      <th>...</th>\n",
       "      <th>ds_situacao_candidatura</th>\n",
       "      <th>ds_situacao_totalizacao</th>\n",
       "      <th>vr_receita</th>\n",
       "      <th>vr_receita_rc_fundo_part</th>\n",
       "      <th>vr_receita_rc_fundo_camp</th>\n",
       "      <th>vr_receita_rc_outros</th>\n",
       "      <th>vr_receita_trf_fundo_part</th>\n",
       "      <th>vr_receita_trf_fundo_camp</th>\n",
       "      <th>vr_receita_trf_outros</th>\n",
       "      <th>dt_carga</th>\n",
       "    </tr>\n",
       "  </thead>\n",
       "  <tbody>\n",
       "    <tr>\n",
       "      <th>0</th>\n",
       "      <td>2022</td>\n",
       "      <td>2040602022</td>\n",
       "      <td>RS</td>\n",
       "      <td>RS</td>\n",
       "      <td>CA</td>\n",
       "      <td>NaN</td>\n",
       "      <td>Não se aplica</td>\n",
       "      <td>45</td>\n",
       "      <td>PSDB</td>\n",
       "      <td>210001620209</td>\n",
       "      <td>...</td>\n",
       "      <td>Apto</td>\n",
       "      <td>Suplente</td>\n",
       "      <td>218053.00</td>\n",
       "      <td>0.0</td>\n",
       "      <td>0.0</td>\n",
       "      <td>0.0</td>\n",
       "      <td>0.0</td>\n",
       "      <td>218053.00</td>\n",
       "      <td>0.0</td>\n",
       "      <td>2024-04-19 02:05:11</td>\n",
       "    </tr>\n",
       "    <tr>\n",
       "      <th>1</th>\n",
       "      <td>2022</td>\n",
       "      <td>2040602022</td>\n",
       "      <td>RS</td>\n",
       "      <td>RS</td>\n",
       "      <td>CA</td>\n",
       "      <td>NaN</td>\n",
       "      <td>Não se aplica</td>\n",
       "      <td>51</td>\n",
       "      <td>PATRIOTA</td>\n",
       "      <td>210001611303</td>\n",
       "      <td>...</td>\n",
       "      <td>Apto</td>\n",
       "      <td>Não eleito</td>\n",
       "      <td>50000.00</td>\n",
       "      <td>0.0</td>\n",
       "      <td>0.0</td>\n",
       "      <td>0.0</td>\n",
       "      <td>0.0</td>\n",
       "      <td>50000.00</td>\n",
       "      <td>0.0</td>\n",
       "      <td>2024-04-19 02:05:11</td>\n",
       "    </tr>\n",
       "    <tr>\n",
       "      <th>2</th>\n",
       "      <td>2022</td>\n",
       "      <td>2040602022</td>\n",
       "      <td>RS</td>\n",
       "      <td>RS</td>\n",
       "      <td>CA</td>\n",
       "      <td>NaN</td>\n",
       "      <td>Não se aplica</td>\n",
       "      <td>13</td>\n",
       "      <td>PT</td>\n",
       "      <td>210001610592</td>\n",
       "      <td>...</td>\n",
       "      <td>Apto</td>\n",
       "      <td>Suplente</td>\n",
       "      <td>63558.68</td>\n",
       "      <td>0.0</td>\n",
       "      <td>0.0</td>\n",
       "      <td>0.0</td>\n",
       "      <td>0.0</td>\n",
       "      <td>63558.68</td>\n",
       "      <td>0.0</td>\n",
       "      <td>2024-04-19 02:05:11</td>\n",
       "    </tr>\n",
       "    <tr>\n",
       "      <th>3</th>\n",
       "      <td>2022</td>\n",
       "      <td>2040602022</td>\n",
       "      <td>RS</td>\n",
       "      <td>RS</td>\n",
       "      <td>CA</td>\n",
       "      <td>NaN</td>\n",
       "      <td>Não se aplica</td>\n",
       "      <td>44</td>\n",
       "      <td>UNIÃO</td>\n",
       "      <td>210001601947</td>\n",
       "      <td>...</td>\n",
       "      <td>Apto</td>\n",
       "      <td>Suplente</td>\n",
       "      <td>100000.00</td>\n",
       "      <td>0.0</td>\n",
       "      <td>0.0</td>\n",
       "      <td>0.0</td>\n",
       "      <td>24000.0</td>\n",
       "      <td>76000.00</td>\n",
       "      <td>0.0</td>\n",
       "      <td>2024-04-19 02:05:11</td>\n",
       "    </tr>\n",
       "    <tr>\n",
       "      <th>4</th>\n",
       "      <td>2022</td>\n",
       "      <td>2040602022</td>\n",
       "      <td>RS</td>\n",
       "      <td>RS</td>\n",
       "      <td>CA</td>\n",
       "      <td>NaN</td>\n",
       "      <td>Não se aplica</td>\n",
       "      <td>14</td>\n",
       "      <td>PTB</td>\n",
       "      <td>210001649789</td>\n",
       "      <td>...</td>\n",
       "      <td>Apto</td>\n",
       "      <td>Suplente</td>\n",
       "      <td>9571.00</td>\n",
       "      <td>0.0</td>\n",
       "      <td>0.0</td>\n",
       "      <td>0.0</td>\n",
       "      <td>0.0</td>\n",
       "      <td>9571.00</td>\n",
       "      <td>0.0</td>\n",
       "      <td>2024-04-19 02:05:11</td>\n",
       "    </tr>\n",
       "  </tbody>\n",
       "</table>\n",
       "<p>5 rows × 22 columns</p>\n",
       "</div>"
      ],
      "text/plain": [
       "   aa_eleicao  sq_eleicao_divulga sg_uf sg_ue tp_prestador  \\\n",
       "0        2022          2040602022    RS    RS           CA   \n",
       "1        2022          2040602022    RS    RS           CA   \n",
       "2        2022          2040602022    RS    RS           CA   \n",
       "3        2022          2040602022    RS    RS           CA   \n",
       "4        2022          2040602022    RS    RS           CA   \n",
       "\n",
       "   cd_esfera_partidaria ds_esfera_partidaria  nr_partido sg_partido  \\\n",
       "0                   NaN        Não se aplica          45       PSDB   \n",
       "1                   NaN        Não se aplica          51   PATRIOTA   \n",
       "2                   NaN        Não se aplica          13         PT   \n",
       "3                   NaN        Não se aplica          44      UNIÃO   \n",
       "4                   NaN        Não se aplica          14        PTB   \n",
       "\n",
       "   sq_candidato  ... ds_situacao_candidatura ds_situacao_totalizacao  \\\n",
       "0  210001620209  ...                    Apto                Suplente   \n",
       "1  210001611303  ...                    Apto              Não eleito   \n",
       "2  210001610592  ...                    Apto                Suplente   \n",
       "3  210001601947  ...                    Apto                Suplente   \n",
       "4  210001649789  ...                    Apto                Suplente   \n",
       "\n",
       "  vr_receita vr_receita_rc_fundo_part  vr_receita_rc_fundo_camp  \\\n",
       "0  218053.00                      0.0                       0.0   \n",
       "1   50000.00                      0.0                       0.0   \n",
       "2   63558.68                      0.0                       0.0   \n",
       "3  100000.00                      0.0                       0.0   \n",
       "4    9571.00                      0.0                       0.0   \n",
       "\n",
       "   vr_receita_rc_outros  vr_receita_trf_fundo_part  vr_receita_trf_fundo_camp  \\\n",
       "0                   0.0                        0.0                  218053.00   \n",
       "1                   0.0                        0.0                   50000.00   \n",
       "2                   0.0                        0.0                   63558.68   \n",
       "3                   0.0                    24000.0                   76000.00   \n",
       "4                   0.0                        0.0                    9571.00   \n",
       "\n",
       "   vr_receita_trf_outros             dt_carga  \n",
       "0                    0.0  2024-04-19 02:05:11  \n",
       "1                    0.0  2024-04-19 02:05:11  \n",
       "2                    0.0  2024-04-19 02:05:11  \n",
       "3                    0.0  2024-04-19 02:05:11  \n",
       "4                    0.0  2024-04-19 02:05:11  \n",
       "\n",
       "[5 rows x 22 columns]"
      ]
     },
     "execution_count": 539,
     "metadata": {},
     "output_type": "execute_result"
    }
   ],
   "source": [
    "eleicao22.head()"
   ]
  },
  {
   "cell_type": "code",
   "execution_count": 540,
   "id": "77d1ce55",
   "metadata": {},
   "outputs": [
    {
     "data": {
      "text/plain": [
       "ds_situacao_totalizacao\n",
       "Suplente            548\n",
       "Não eleito          124\n",
       "Eleito por QP        43\n",
       "Eleito por média      9\n",
       "Name: count, dtype: int64"
      ]
     },
     "execution_count": 540,
     "metadata": {},
     "output_type": "execute_result"
    }
   ],
   "source": [
    "eleicao22['ds_situacao_totalizacao'].value_counts()"
   ]
  },
  {
   "cell_type": "code",
   "execution_count": 541,
   "id": "b8930fcd",
   "metadata": {},
   "outputs": [],
   "source": [
    "eleicao22.drop(eleicao22[eleicao22['ds_situacao_totalizacao'].isin(['Suplente'])].index, inplace=True)"
   ]
  },
  {
   "cell_type": "code",
   "execution_count": 542,
   "id": "c85dd1b0",
   "metadata": {},
   "outputs": [],
   "source": [
    "eleicao22.loc[eleicao22['ds_situacao_totalizacao'].isin(['Eleito por média', 'Eleito por QP']), 'ds_situacao_totalizacao'] = 1\n",
    "eleicao22.loc[eleicao22['ds_situacao_totalizacao'].isin(['Não eleito']), 'ds_situacao_totalizacao'] = 0"
   ]
  },
  {
   "cell_type": "code",
   "execution_count": 543,
   "id": "333645f4",
   "metadata": {},
   "outputs": [],
   "source": [
    "eleicao22.insert(1, 'bias', np.ones(eleicao22.shape[0]))"
   ]
  },
  {
   "cell_type": "code",
   "execution_count": 544,
   "id": "6f236d44",
   "metadata": {},
   "outputs": [],
   "source": [
    "eleicao22 = eleicao22.loc[:, ['bias', 'vr_receita', 'ds_situacao_totalizacao']]"
   ]
  },
  {
   "cell_type": "code",
   "execution_count": 545,
   "id": "6a463484",
   "metadata": {},
   "outputs": [],
   "source": [
    "eleicao22.to_csv('data/eleicao22.csv')\n",
    "#----------------------------------------------------------------------------------------------------------------------------"
   ]
  },
  {
   "cell_type": "code",
   "execution_count": 546,
   "id": "2557456b",
   "metadata": {},
   "outputs": [],
   "source": [
    "eleicao22 = pd.read_csv('data/eleicao22.csv')"
   ]
  },
  {
   "cell_type": "code",
   "execution_count": 547,
   "id": "c03cad2e",
   "metadata": {},
   "outputs": [],
   "source": [
    "X = eleicao22.loc[:, 'vr_receita'].values\n",
    "X = X / np.max(X)\n",
    "Xsk = X[:, np.newaxis]\n",
    "y = eleicao22.loc[:, 'ds_situacao_totalizacao'].values"
   ]
  },
  {
   "cell_type": "code",
   "execution_count": 548,
   "id": "61c4f8d2",
   "metadata": {},
   "outputs": [
    {
     "data": {
      "text/html": [
       "<style>#sk-container-id-10 {color: black;}#sk-container-id-10 pre{padding: 0;}#sk-container-id-10 div.sk-toggleable {background-color: white;}#sk-container-id-10 label.sk-toggleable__label {cursor: pointer;display: block;width: 100%;margin-bottom: 0;padding: 0.3em;box-sizing: border-box;text-align: center;}#sk-container-id-10 label.sk-toggleable__label-arrow:before {content: \"▸\";float: left;margin-right: 0.25em;color: #696969;}#sk-container-id-10 label.sk-toggleable__label-arrow:hover:before {color: black;}#sk-container-id-10 div.sk-estimator:hover label.sk-toggleable__label-arrow:before {color: black;}#sk-container-id-10 div.sk-toggleable__content {max-height: 0;max-width: 0;overflow: hidden;text-align: left;background-color: #f0f8ff;}#sk-container-id-10 div.sk-toggleable__content pre {margin: 0.2em;color: black;border-radius: 0.25em;background-color: #f0f8ff;}#sk-container-id-10 input.sk-toggleable__control:checked~div.sk-toggleable__content {max-height: 200px;max-width: 100%;overflow: auto;}#sk-container-id-10 input.sk-toggleable__control:checked~label.sk-toggleable__label-arrow:before {content: \"▾\";}#sk-container-id-10 div.sk-estimator input.sk-toggleable__control:checked~label.sk-toggleable__label {background-color: #d4ebff;}#sk-container-id-10 div.sk-label input.sk-toggleable__control:checked~label.sk-toggleable__label {background-color: #d4ebff;}#sk-container-id-10 input.sk-hidden--visually {border: 0;clip: rect(1px 1px 1px 1px);clip: rect(1px, 1px, 1px, 1px);height: 1px;margin: -1px;overflow: hidden;padding: 0;position: absolute;width: 1px;}#sk-container-id-10 div.sk-estimator {font-family: monospace;background-color: #f0f8ff;border: 1px dotted black;border-radius: 0.25em;box-sizing: border-box;margin-bottom: 0.5em;}#sk-container-id-10 div.sk-estimator:hover {background-color: #d4ebff;}#sk-container-id-10 div.sk-parallel-item::after {content: \"\";width: 100%;border-bottom: 1px solid gray;flex-grow: 1;}#sk-container-id-10 div.sk-label:hover label.sk-toggleable__label {background-color: #d4ebff;}#sk-container-id-10 div.sk-serial::before {content: \"\";position: absolute;border-left: 1px solid gray;box-sizing: border-box;top: 0;bottom: 0;left: 50%;z-index: 0;}#sk-container-id-10 div.sk-serial {display: flex;flex-direction: column;align-items: center;background-color: white;padding-right: 0.2em;padding-left: 0.2em;position: relative;}#sk-container-id-10 div.sk-item {position: relative;z-index: 1;}#sk-container-id-10 div.sk-parallel {display: flex;align-items: stretch;justify-content: center;background-color: white;position: relative;}#sk-container-id-10 div.sk-item::before, #sk-container-id-10 div.sk-parallel-item::before {content: \"\";position: absolute;border-left: 1px solid gray;box-sizing: border-box;top: 0;bottom: 0;left: 50%;z-index: -1;}#sk-container-id-10 div.sk-parallel-item {display: flex;flex-direction: column;z-index: 1;position: relative;background-color: white;}#sk-container-id-10 div.sk-parallel-item:first-child::after {align-self: flex-end;width: 50%;}#sk-container-id-10 div.sk-parallel-item:last-child::after {align-self: flex-start;width: 50%;}#sk-container-id-10 div.sk-parallel-item:only-child::after {width: 0;}#sk-container-id-10 div.sk-dashed-wrapped {border: 1px dashed gray;margin: 0 0.4em 0.5em 0.4em;box-sizing: border-box;padding-bottom: 0.4em;background-color: white;}#sk-container-id-10 div.sk-label label {font-family: monospace;font-weight: bold;display: inline-block;line-height: 1.2em;}#sk-container-id-10 div.sk-label-container {text-align: center;}#sk-container-id-10 div.sk-container {/* jupyter's `normalize.less` sets `[hidden] { display: none; }` but bootstrap.min.css set `[hidden] { display: none !important; }` so we also need the `!important` here to be able to override the default hidden behavior on the sphinx rendered scikit-learn.org. See: https://github.com/scikit-learn/scikit-learn/issues/21755 */display: inline-block !important;position: relative;}#sk-container-id-10 div.sk-text-repr-fallback {display: none;}</style><div id=\"sk-container-id-10\" class=\"sk-top-container\"><div class=\"sk-text-repr-fallback\"><pre>LogisticRegression()</pre><b>In a Jupyter environment, please rerun this cell to show the HTML representation or trust the notebook. <br />On GitHub, the HTML representation is unable to render, please try loading this page with nbviewer.org.</b></div><div class=\"sk-container\" hidden><div class=\"sk-item\"><div class=\"sk-estimator sk-toggleable\"><input class=\"sk-toggleable__control sk-hidden--visually\" id=\"sk-estimator-id-10\" type=\"checkbox\" checked><label for=\"sk-estimator-id-10\" class=\"sk-toggleable__label sk-toggleable__label-arrow\">LogisticRegression</label><div class=\"sk-toggleable__content\"><pre>LogisticRegression()</pre></div></div></div></div></div>"
      ],
      "text/plain": [
       "LogisticRegression()"
      ]
     },
     "execution_count": 548,
     "metadata": {},
     "output_type": "execute_result"
    }
   ],
   "source": [
    "modelo.fit(Xsk, y)"
   ]
  },
  {
   "cell_type": "code",
   "execution_count": 549,
   "id": "5f5e10ce",
   "metadata": {},
   "outputs": [],
   "source": [
    "predict_y = modelo.predict(Xsk)"
   ]
  },
  {
   "cell_type": "code",
   "execution_count": 550,
   "id": "2fbfe5c9",
   "metadata": {},
   "outputs": [
    {
     "data": {
      "text/plain": [
       "<matplotlib.collections.PathCollection at 0x7fe9c82a9610>"
      ]
     },
     "execution_count": 550,
     "metadata": {},
     "output_type": "execute_result"
    },
    {
     "data": {
      "image/png": "[encoded data removed]",
      "text/plain": [
       "<Figure size 640x480 with 1 Axes>"
      ]
     },
     "metadata": {},
     "output_type": "display_data"
    }
   ],
   "source": [
    "plt.scatter(X, y)\n",
    "plt.scatter(\n",
    "    X, predict_y,\n",
    "    c='red',\n",
    "    marker='*'\n",
    ")"
   ]
  },
  {
   "cell_type": "code",
   "execution_count": 551,
   "id": "97676256",
   "metadata": {},
   "outputs": [
    {
     "data": {
      "text/plain": [
       "array([[1.        , 0.73970306],\n",
       "       [0.73970306, 1.        ]])"
      ]
     },
     "execution_count": 551,
     "metadata": {},
     "output_type": "execute_result"
    }
   ],
   "source": [
    "np.corrcoef(X, y)"
   ]
  },
  {
   "cell_type": "code",
   "execution_count": 552,
   "id": "7be55ffc",
   "metadata": {},
   "outputs": [
    {
     "data": {
      "text/plain": [
       "ds_situacao_totalizacao\n",
       "0    124\n",
       "1     52\n",
       "Name: count, dtype: int64"
      ]
     },
     "execution_count": 552,
     "metadata": {},
     "output_type": "execute_result"
    }
   ],
   "source": [
    "eleicao22['ds_situacao_totalizacao'].value_counts()"
   ]
  }
 ],
 "metadata": {
  "kernelspec": {
   "display_name": "Python 3 (ipykernel)",
   "language": "python",
   "name": "python3"
  },
  "language_info": {
   "codemirror_mode": {
    "name": "ipython",
    "version": 3
   },
   "file_extension": ".py",
   "mimetype": "text/x-python",
   "name": "python",
   "nbconvert_exporter": "python",
   "pygments_lexer": "ipython3",
   "version": "3.11.5"
  }
 },
 "nbformat": 4,
 "nbformat_minor": 5
}
